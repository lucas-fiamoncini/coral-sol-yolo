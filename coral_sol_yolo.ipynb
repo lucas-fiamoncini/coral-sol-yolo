{
 "cells": [
  {
   "cell_type": "markdown",
   "metadata": {
    "id": "K6oyYjaoGYBB"
   },
   "source": [
    "## INE410121 - VISÃO COMPUTACIONAL\n",
    "## Grupo 21 - Identificação de espécies bentônicas marinhas: ênfase em coral-sol\n",
    "### Integrantes:\n",
    "- Lucas Fiamoncini;\n",
    "- Marcelo Crivellaro;\n",
    "- Thayssa Godoi;\n",
    "- Thiago Silveira.\n",
    "\n",
    "### Banco de dados:\n",
    "- Banco de dados privado oriundo da pesquisa dos pós-doutorandos Marcelo Crivellaro e Thiago Silveira;\n",
    "- Anotação das imagens realizada utilizando a ferramenta [Roboflow](https://app.roboflow.com/workspaces).\n"
   ]
  },
  {
   "cell_type": "markdown",
   "metadata": {
    "id": "9F4wY1lwHmR-"
   },
   "source": [
    "-----"
   ]
  },
  {
   "cell_type": "markdown",
   "metadata": {
    "id": "5ux4zbRyHmRK"
   },
   "source": [
    "### Instalão das bibliotecas necessárias"
   ]
  },
  {
   "cell_type": "code",
   "execution_count": null,
   "metadata": {
    "colab": {
     "base_uri": "https://localhost:8080/"
    },
    "executionInfo": {
     "elapsed": 12533,
     "status": "ok",
     "timestamp": 1732621668631,
     "user": {
      "displayName": "Lucas Fiamoncini de Souza",
      "userId": "07293024836181350168"
     },
     "user_tz": 180
    },
    "id": "sfhUZzHAJfP_",
    "outputId": "c1e9d49f-5f80-4bfc-c28d-694f74c1910e"
   },
   "outputs": [
    {
     "name": "stdout",
     "output_type": "stream",
     "text": [
      "Collecting ultralytics\n",
      "  Downloading ultralytics-8.3.38-py3-none-any.whl.metadata (35 kB)\n",
      "Requirement already satisfied: numpy>=1.23.0 in /usr/local/lib/python3.10/dist-packages (from ultralytics) (1.26.4)\n",
      "Requirement already satisfied: matplotlib>=3.3.0 in /usr/local/lib/python3.10/dist-packages (from ultralytics) (3.8.0)\n",
      "Requirement already satisfied: opencv-python>=4.6.0 in /usr/local/lib/python3.10/dist-packages (from ultralytics) (4.10.0.84)\n",
      "Requirement already satisfied: pillow>=7.1.2 in /usr/local/lib/python3.10/dist-packages (from ultralytics) (11.0.0)\n",
      "Requirement already satisfied: pyyaml>=5.3.1 in /usr/local/lib/python3.10/dist-packages (from ultralytics) (6.0.2)\n",
      "Requirement already satisfied: requests>=2.23.0 in /usr/local/lib/python3.10/dist-packages (from ultralytics) (2.32.3)\n",
      "Requirement already satisfied: scipy>=1.4.1 in /usr/local/lib/python3.10/dist-packages (from ultralytics) (1.13.1)\n",
      "Requirement already satisfied: torch>=1.8.0 in /usr/local/lib/python3.10/dist-packages (from ultralytics) (2.5.1+cu121)\n",
      "Requirement already satisfied: torchvision>=0.9.0 in /usr/local/lib/python3.10/dist-packages (from ultralytics) (0.20.1+cu121)\n",
      "Requirement already satisfied: tqdm>=4.64.0 in /usr/local/lib/python3.10/dist-packages (from ultralytics) (4.66.6)\n",
      "Requirement already satisfied: psutil in /usr/local/lib/python3.10/dist-packages (from ultralytics) (5.9.5)\n",
      "Requirement already satisfied: py-cpuinfo in /usr/local/lib/python3.10/dist-packages (from ultralytics) (9.0.0)\n",
      "Requirement already satisfied: pandas>=1.1.4 in /usr/local/lib/python3.10/dist-packages (from ultralytics) (2.2.2)\n",
      "Requirement already satisfied: seaborn>=0.11.0 in /usr/local/lib/python3.10/dist-packages (from ultralytics) (0.13.2)\n",
      "Collecting ultralytics-thop>=2.0.0 (from ultralytics)\n",
      "  Downloading ultralytics_thop-2.0.12-py3-none-any.whl.metadata (9.4 kB)\n",
      "Requirement already satisfied: contourpy>=1.0.1 in /usr/local/lib/python3.10/dist-packages (from matplotlib>=3.3.0->ultralytics) (1.3.1)\n",
      "Requirement already satisfied: cycler>=0.10 in /usr/local/lib/python3.10/dist-packages (from matplotlib>=3.3.0->ultralytics) (0.12.1)\n",
      "Requirement already satisfied: fonttools>=4.22.0 in /usr/local/lib/python3.10/dist-packages (from matplotlib>=3.3.0->ultralytics) (4.55.0)\n",
      "Requirement already satisfied: kiwisolver>=1.0.1 in /usr/local/lib/python3.10/dist-packages (from matplotlib>=3.3.0->ultralytics) (1.4.7)\n",
      "Requirement already satisfied: packaging>=20.0 in /usr/local/lib/python3.10/dist-packages (from matplotlib>=3.3.0->ultralytics) (24.2)\n",
      "Requirement already satisfied: pyparsing>=2.3.1 in /usr/local/lib/python3.10/dist-packages (from matplotlib>=3.3.0->ultralytics) (3.2.0)\n",
      "Requirement already satisfied: python-dateutil>=2.7 in /usr/local/lib/python3.10/dist-packages (from matplotlib>=3.3.0->ultralytics) (2.8.2)\n",
      "Requirement already satisfied: pytz>=2020.1 in /usr/local/lib/python3.10/dist-packages (from pandas>=1.1.4->ultralytics) (2024.2)\n",
      "Requirement already satisfied: tzdata>=2022.7 in /usr/local/lib/python3.10/dist-packages (from pandas>=1.1.4->ultralytics) (2024.2)\n",
      "Requirement already satisfied: charset-normalizer<4,>=2 in /usr/local/lib/python3.10/dist-packages (from requests>=2.23.0->ultralytics) (3.4.0)\n",
      "Requirement already satisfied: idna<4,>=2.5 in /usr/local/lib/python3.10/dist-packages (from requests>=2.23.0->ultralytics) (3.10)\n",
      "Requirement already satisfied: urllib3<3,>=1.21.1 in /usr/local/lib/python3.10/dist-packages (from requests>=2.23.0->ultralytics) (2.2.3)\n",
      "Requirement already satisfied: certifi>=2017.4.17 in /usr/local/lib/python3.10/dist-packages (from requests>=2.23.0->ultralytics) (2024.8.30)\n",
      "Requirement already satisfied: filelock in /usr/local/lib/python3.10/dist-packages (from torch>=1.8.0->ultralytics) (3.16.1)\n",
      "Requirement already satisfied: typing-extensions>=4.8.0 in /usr/local/lib/python3.10/dist-packages (from torch>=1.8.0->ultralytics) (4.12.2)\n",
      "Requirement already satisfied: networkx in /usr/local/lib/python3.10/dist-packages (from torch>=1.8.0->ultralytics) (3.4.2)\n",
      "Requirement already satisfied: jinja2 in /usr/local/lib/python3.10/dist-packages (from torch>=1.8.0->ultralytics) (3.1.4)\n",
      "Requirement already satisfied: fsspec in /usr/local/lib/python3.10/dist-packages (from torch>=1.8.0->ultralytics) (2024.10.0)\n",
      "Requirement already satisfied: sympy==1.13.1 in /usr/local/lib/python3.10/dist-packages (from torch>=1.8.0->ultralytics) (1.13.1)\n",
      "Requirement already satisfied: mpmath<1.4,>=1.1.0 in /usr/local/lib/python3.10/dist-packages (from sympy==1.13.1->torch>=1.8.0->ultralytics) (1.3.0)\n",
      "Requirement already satisfied: six>=1.5 in /usr/local/lib/python3.10/dist-packages (from python-dateutil>=2.7->matplotlib>=3.3.0->ultralytics) (1.16.0)\n",
      "Requirement already satisfied: MarkupSafe>=2.0 in /usr/local/lib/python3.10/dist-packages (from jinja2->torch>=1.8.0->ultralytics) (3.0.2)\n",
      "Downloading ultralytics-8.3.38-py3-none-any.whl (896 kB)\n",
      "\u001b[2K   \u001b[90m━━━━━━━━━━━━━━━━━━━━━━━━━━━━━━━━━━━━━━━━\u001b[0m \u001b[32m896.3/896.3 kB\u001b[0m \u001b[31m11.5 MB/s\u001b[0m eta \u001b[36m0:00:00\u001b[0m\n",
      "\u001b[?25hDownloading ultralytics_thop-2.0.12-py3-none-any.whl (26 kB)\n",
      "Installing collected packages: ultralytics-thop, ultralytics\n",
      "Successfully installed ultralytics-8.3.38 ultralytics-thop-2.0.12\n",
      "Collecting roboflow\n",
      "  Downloading roboflow-1.1.49-py3-none-any.whl.metadata (9.7 kB)\n",
      "Requirement already satisfied: certifi in /usr/local/lib/python3.10/dist-packages (from roboflow) (2024.8.30)\n",
      "Collecting idna==3.7 (from roboflow)\n",
      "  Downloading idna-3.7-py3-none-any.whl.metadata (9.9 kB)\n",
      "Requirement already satisfied: cycler in /usr/local/lib/python3.10/dist-packages (from roboflow) (0.12.1)\n",
      "Requirement already satisfied: kiwisolver>=1.3.1 in /usr/local/lib/python3.10/dist-packages (from roboflow) (1.4.7)\n",
      "Requirement already satisfied: matplotlib in /usr/local/lib/python3.10/dist-packages (from roboflow) (3.8.0)\n",
      "Requirement already satisfied: numpy>=1.18.5 in /usr/local/lib/python3.10/dist-packages (from roboflow) (1.26.4)\n",
      "Requirement already satisfied: opencv-python-headless==4.10.0.84 in /usr/local/lib/python3.10/dist-packages (from roboflow) (4.10.0.84)\n",
      "Requirement already satisfied: Pillow>=7.1.2 in /usr/local/lib/python3.10/dist-packages (from roboflow) (11.0.0)\n",
      "Requirement already satisfied: python-dateutil in /usr/local/lib/python3.10/dist-packages (from roboflow) (2.8.2)\n",
      "Collecting python-dotenv (from roboflow)\n",
      "  Downloading python_dotenv-1.0.1-py3-none-any.whl.metadata (23 kB)\n",
      "Requirement already satisfied: requests in /usr/local/lib/python3.10/dist-packages (from roboflow) (2.32.3)\n",
      "Requirement already satisfied: six in /usr/local/lib/python3.10/dist-packages (from roboflow) (1.16.0)\n",
      "Requirement already satisfied: urllib3>=1.26.6 in /usr/local/lib/python3.10/dist-packages (from roboflow) (2.2.3)\n",
      "Requirement already satisfied: tqdm>=4.41.0 in /usr/local/lib/python3.10/dist-packages (from roboflow) (4.66.6)\n",
      "Requirement already satisfied: PyYAML>=5.3.1 in /usr/local/lib/python3.10/dist-packages (from roboflow) (6.0.2)\n",
      "Requirement already satisfied: requests-toolbelt in /usr/local/lib/python3.10/dist-packages (from roboflow) (1.0.0)\n",
      "Collecting filetype (from roboflow)\n",
      "  Downloading filetype-1.2.0-py2.py3-none-any.whl.metadata (6.5 kB)\n",
      "Requirement already satisfied: contourpy>=1.0.1 in /usr/local/lib/python3.10/dist-packages (from matplotlib->roboflow) (1.3.1)\n",
      "Requirement already satisfied: fonttools>=4.22.0 in /usr/local/lib/python3.10/dist-packages (from matplotlib->roboflow) (4.55.0)\n",
      "Requirement already satisfied: packaging>=20.0 in /usr/local/lib/python3.10/dist-packages (from matplotlib->roboflow) (24.2)\n",
      "Requirement already satisfied: pyparsing>=2.3.1 in /usr/local/lib/python3.10/dist-packages (from matplotlib->roboflow) (3.2.0)\n",
      "Requirement already satisfied: charset-normalizer<4,>=2 in /usr/local/lib/python3.10/dist-packages (from requests->roboflow) (3.4.0)\n",
      "Downloading roboflow-1.1.49-py3-none-any.whl (80 kB)\n",
      "\u001b[2K   \u001b[90m━━━━━━━━━━━━━━━━━━━━━━━━━━━━━━━━━━━━━━━━\u001b[0m \u001b[32m80.9/80.9 kB\u001b[0m \u001b[31m3.3 MB/s\u001b[0m eta \u001b[36m0:00:00\u001b[0m\n",
      "\u001b[?25hDownloading idna-3.7-py3-none-any.whl (66 kB)\n",
      "\u001b[2K   \u001b[90m━━━━━━━━━━━━━━━━━━━━━━━━━━━━━━━━━━━━━━━━\u001b[0m \u001b[32m66.8/66.8 kB\u001b[0m \u001b[31m5.2 MB/s\u001b[0m eta \u001b[36m0:00:00\u001b[0m\n",
      "\u001b[?25hDownloading filetype-1.2.0-py2.py3-none-any.whl (19 kB)\n",
      "Downloading python_dotenv-1.0.1-py3-none-any.whl (19 kB)\n",
      "Installing collected packages: filetype, python-dotenv, idna, roboflow\n",
      "  Attempting uninstall: idna\n",
      "    Found existing installation: idna 3.10\n",
      "    Uninstalling idna-3.10:\n",
      "      Successfully uninstalled idna-3.10\n",
      "Successfully installed filetype-1.2.0 idna-3.7 python-dotenv-1.0.1 roboflow-1.1.49\n"
     ]
    }
   ],
   "source": [
    "!pip install ultralytics  # YOLOv8 installation\n",
    "!pip install roboflow     # Roboflow for downloading the dataset\n",
    "!pip install python-dotenv"
   ]
  },
  {
   "cell_type": "markdown",
   "metadata": {
    "id": "4uruFJK_I3IZ"
   },
   "source": [
    "### Download do banco de dados a ser utilizado"
   ]
  },
  {
   "cell_type": "code",
   "execution_count": null,
   "metadata": {
    "colab": {
     "base_uri": "https://localhost:8080/"
    },
    "executionInfo": {
     "elapsed": 19858,
     "status": "ok",
     "timestamp": 1732621688485,
     "user": {
      "displayName": "Lucas Fiamoncini de Souza",
      "userId": "07293024836181350168"
     },
     "user_tz": 180
    },
    "id": "fWfCowSnMsLj",
    "outputId": "80d77160-01c9-49dd-ae6b-0f69018f8d1d"
   },
   "outputs": [
    {
     "name": "stdout",
     "output_type": "stream",
     "text": [
      "loading Roboflow workspace...\n",
      "loading Roboflow project...\n"
     ]
    },
    {
     "name": "stderr",
     "output_type": "stream",
     "text": [
      "Downloading Dataset Version Zip in Sun-Coral-identification-13 to yolov8:: 100%|██████████| 44547/44547 [00:04<00:00, 10315.04it/s]"
     ]
    },
    {
     "name": "stdout",
     "output_type": "stream",
     "text": [
      "\n"
     ]
    },
    {
     "name": "stderr",
     "output_type": "stream",
     "text": [
      "\n",
      "Extracting Dataset Version Zip to Sun-Coral-identification-13 in yolov8:: 100%|██████████| 1086/1086 [00:00<00:00, 1168.83it/s]\n"
     ]
    },
    {
     "name": "stdout",
     "output_type": "stream",
     "text": [
      "Creating new Ultralytics Settings v0.0.6 file ✅ \n",
      "View Ultralytics Settings with 'yolo settings' or at '/root/.config/Ultralytics/settings.json'\n",
      "Update Settings with 'yolo settings key=value', i.e. 'yolo settings runs_dir=path/to/dir'. For help see https://docs.ultralytics.com/quickstart/#ultralytics-settings.\n"
     ]
    }
   ],
   "source": [
    "from roboflow import Roboflow\n",
    "from dotenv import load_dotenv\n",
    "import os\n",
    "\n",
    "# Load environment variables from .env file\n",
    "load_dotenv()\n",
    "\n",
    "# Access variables\n",
    "MY_API_KEY = os.getenv(\"MY_API_KEY\")\n",
    "VERSION = 13\n",
    "\n",
    "rf = Roboflow(api_key=MY_API_KEY)\n",
    "project = rf.workspace(\"coralsol-jhwbk\").project(\"sun-coral-identification\")\n",
    "version = project.version(VERSION)\n",
    "dataset = version.download(\"yolov8\")"
   ]
  },
  {
   "cell_type": "markdown",
   "metadata": {
    "id": "dWTuRqVYI82m"
   },
   "source": [
    "### Verificação da disponibilidade do modelo YOLO para tarefa de detecção"
   ]
  },
  {
   "cell_type": "code",
   "execution_count": null,
   "metadata": {
    "colab": {
     "base_uri": "https://localhost:8080/"
    },
    "executionInfo": {
     "elapsed": 9238,
     "status": "ok",
     "timestamp": 1732554673361,
     "user": {
      "displayName": "Lucas Fiamoncini de Souza",
      "userId": "07293024836181350168"
     },
     "user_tz": 180
    },
    "id": "-ddX16zeWh3i",
    "outputId": "8cd7bae3-b37e-4719-ce15-287ee4ec173d"
   },
   "outputs": [
    {
     "name": "stdout",
     "output_type": "stream",
     "text": [
      "\u001b[2K\r\u001b[2K\rUltralytics 8.3.37 🚀 Python-3.10.12 torch-2.5.1+cu121 CUDA:0 (Tesla T4, 15102MiB)\n",
      "Setup complete ✅ (2 CPUs, 12.7 GB RAM, 32.6/112.6 GB disk)\n",
      "\n",
      "OS                  Linux-6.1.85+-x86_64-with-glibc2.35\n",
      "Environment         Colab\n",
      "Python              3.10.12\n",
      "Install             pip\n",
      "RAM                 12.67 GB\n",
      "Disk                32.6/112.6 GB\n",
      "CPU                 Intel Xeon 2.20GHz\n",
      "CPU count           2\n",
      "GPU                 Tesla T4, 15102MiB\n",
      "GPU count           1\n",
      "CUDA                12.1\n",
      "\n",
      "numpy               ✅ 1.26.4>=1.23.0\n",
      "numpy               ✅ 1.26.4<2.0.0; sys_platform == \"darwin\"\n",
      "matplotlib          ✅ 3.8.0>=3.3.0\n",
      "opencv-python       ✅ 4.10.0.84>=4.6.0\n",
      "pillow              ✅ 11.0.0>=7.1.2\n",
      "pyyaml              ✅ 6.0.2>=5.3.1\n",
      "requests            ✅ 2.32.3>=2.23.0\n",
      "scipy               ✅ 1.13.1>=1.4.1\n",
      "torch               ✅ 2.5.1+cu121>=1.8.0\n",
      "torch               ✅ 2.5.1+cu121!=2.4.0,>=1.8.0; sys_platform == \"win32\"\n",
      "torchvision         ✅ 0.20.1+cu121>=0.9.0\n",
      "tqdm                ✅ 4.66.6>=4.64.0\n",
      "psutil              ✅ 5.9.5\n",
      "py-cpuinfo          ✅ 9.0.0\n",
      "pandas              ✅ 2.2.2>=1.1.4\n",
      "seaborn             ✅ 0.13.2>=0.11.0\n",
      "ultralytics-thop    ✅ 2.0.12>=2.0.0\n"
     ]
    }
   ],
   "source": [
    "from ultralytics import YOLO\n",
    "!yolo checks"
   ]
  },
  {
   "cell_type": "markdown",
   "metadata": {
    "id": "xeVGuR2tJC7n"
   },
   "source": [
    "### Treinamento do modelo YOLO no banco de dados"
   ]
  },
  {
   "cell_type": "code",
   "execution_count": null,
   "metadata": {
    "id": "8XgYifwMjPVw"
   },
   "outputs": [],
   "source": [
    "# !yolo task=detect mode=train model=yolov8m.pt data=/content/Sun-Coral-identification-9/data.yaml epochs=30 imgsz=640 batch=32"
   ]
  },
  {
   "cell_type": "code",
   "execution_count": null,
   "metadata": {
    "colab": {
     "base_uri": "https://localhost:8080/"
    },
    "executionInfo": {
     "elapsed": 955790,
     "status": "ok",
     "timestamp": 1732555745438,
     "user": {
      "displayName": "Lucas Fiamoncini de Souza",
      "userId": "07293024836181350168"
     },
     "user_tz": 180
    },
    "id": "KrTuM2UQORF0",
    "outputId": "25fae5be-2727-4584-8446-955bb35cbfad"
   },
   "outputs": [
    {
     "name": "stdout",
     "output_type": "stream",
     "text": [
      "Ultralytics 8.3.37 🚀 Python-3.10.12 torch-2.5.1+cu121 CUDA:0 (Tesla T4, 15102MiB)\n",
      "\u001b[34m\u001b[1mengine/trainer: \u001b[0mtask=detect, mode=train, model=yolov8m.pt, data=/content/Sun-Coral-identification-13/data.yaml, epochs=50, time=None, patience=100, batch=16, imgsz=640, save=True, save_period=-1, cache=False, device=None, workers=8, project=None, name=coral_model2, exist_ok=False, pretrained=True, optimizer=auto, verbose=True, seed=0, deterministic=True, single_cls=False, rect=False, cos_lr=False, close_mosaic=10, resume=False, amp=True, fraction=1.0, profile=False, freeze=None, multi_scale=False, overlap_mask=True, mask_ratio=4, dropout=0.0, val=True, split=val, save_json=False, save_hybrid=False, conf=None, iou=0.7, max_det=300, half=False, dnn=False, plots=True, source=None, vid_stride=1, stream_buffer=False, visualize=False, augment=False, agnostic_nms=False, classes=None, retina_masks=False, embed=None, show=False, save_frames=False, save_txt=False, save_conf=False, save_crop=False, show_labels=True, show_conf=True, show_boxes=True, line_width=None, format=torchscript, keras=False, optimize=False, int8=False, dynamic=False, simplify=True, opset=None, workspace=None, nms=False, lr0=0.01, lrf=0.01, momentum=0.937, weight_decay=0.0005, warmup_epochs=3.0, warmup_momentum=0.8, warmup_bias_lr=0.1, box=7.5, cls=0.5, dfl=1.5, pose=12.0, kobj=1.0, label_smoothing=0.0, nbs=64, hsv_h=0.015, hsv_s=0.7, hsv_v=0.4, degrees=0.0, translate=0.1, scale=0.5, shear=0.0, perspective=0.0, flipud=0.0, fliplr=0.5, bgr=0.0, mosaic=1.0, mixup=0.0, copy_paste=0.0, copy_paste_mode=flip, auto_augment=randaugment, erasing=0.4, crop_fraction=1.0, cfg=None, tracker=botsort.yaml, save_dir=runs/detect/coral_model2\n",
      "Overriding model.yaml nc=80 with nc=4\n",
      "\n",
      "                   from  n    params  module                                       arguments                     \n",
      "  0                  -1  1      1392  ultralytics.nn.modules.conv.Conv             [3, 48, 3, 2]                 \n",
      "  1                  -1  1     41664  ultralytics.nn.modules.conv.Conv             [48, 96, 3, 2]                \n",
      "  2                  -1  2    111360  ultralytics.nn.modules.block.C2f             [96, 96, 2, True]             \n",
      "  3                  -1  1    166272  ultralytics.nn.modules.conv.Conv             [96, 192, 3, 2]               \n",
      "  4                  -1  4    813312  ultralytics.nn.modules.block.C2f             [192, 192, 4, True]           \n",
      "  5                  -1  1    664320  ultralytics.nn.modules.conv.Conv             [192, 384, 3, 2]              \n",
      "  6                  -1  4   3248640  ultralytics.nn.modules.block.C2f             [384, 384, 4, True]           \n",
      "  7                  -1  1   1991808  ultralytics.nn.modules.conv.Conv             [384, 576, 3, 2]              \n",
      "  8                  -1  2   3985920  ultralytics.nn.modules.block.C2f             [576, 576, 2, True]           \n",
      "  9                  -1  1    831168  ultralytics.nn.modules.block.SPPF            [576, 576, 5]                 \n",
      " 10                  -1  1         0  torch.nn.modules.upsampling.Upsample         [None, 2, 'nearest']          \n",
      " 11             [-1, 6]  1         0  ultralytics.nn.modules.conv.Concat           [1]                           \n",
      " 12                  -1  2   1993728  ultralytics.nn.modules.block.C2f             [960, 384, 2]                 \n",
      " 13                  -1  1         0  torch.nn.modules.upsampling.Upsample         [None, 2, 'nearest']          \n",
      " 14             [-1, 4]  1         0  ultralytics.nn.modules.conv.Concat           [1]                           \n",
      " 15                  -1  2    517632  ultralytics.nn.modules.block.C2f             [576, 192, 2]                 \n",
      " 16                  -1  1    332160  ultralytics.nn.modules.conv.Conv             [192, 192, 3, 2]              \n",
      " 17            [-1, 12]  1         0  ultralytics.nn.modules.conv.Concat           [1]                           \n",
      " 18                  -1  2   1846272  ultralytics.nn.modules.block.C2f             [576, 384, 2]                 \n",
      " 19                  -1  1   1327872  ultralytics.nn.modules.conv.Conv             [384, 384, 3, 2]              \n",
      " 20             [-1, 9]  1         0  ultralytics.nn.modules.conv.Concat           [1]                           \n",
      " 21                  -1  2   4207104  ultralytics.nn.modules.block.C2f             [960, 576, 2]                 \n",
      " 22        [15, 18, 21]  1   3778012  ultralytics.nn.modules.head.Detect           [4, [192, 384, 576]]          \n",
      "Model summary: 295 layers, 25,858,636 parameters, 25,858,620 gradients, 79.1 GFLOPs\n",
      "\n",
      "Transferred 469/475 items from pretrained weights\n",
      "\u001b[34m\u001b[1mTensorBoard: \u001b[0mStart with 'tensorboard --logdir runs/detect/coral_model2', view at http://localhost:6006/\n",
      "Freezing layer 'model.22.dfl.conv.weight'\n",
      "\u001b[34m\u001b[1mAMP: \u001b[0mrunning Automatic Mixed Precision (AMP) checks...\n",
      "\u001b[34m\u001b[1mAMP: \u001b[0mchecks passed ✅\n"
     ]
    },
    {
     "name": "stderr",
     "output_type": "stream",
     "text": [
      "\u001b[34m\u001b[1mtrain: \u001b[0mScanning /content/Sun-Coral-identification-13/train/labels... 447 images, 0 backgrounds, 0 corrupt: 100%|██████████| 447/447 [00:00<00:00, 1886.70it/s]"
     ]
    },
    {
     "name": "stdout",
     "output_type": "stream",
     "text": [
      "\u001b[34m\u001b[1mtrain: \u001b[0mNew cache created: /content/Sun-Coral-identification-13/train/labels.cache\n",
      "WARNING ⚠️ Box and segment counts should be equal, but got len(segments) = 66, len(boxes) = 4470. To resolve this only boxes will be used and all segments will be removed. To avoid this please supply either a detect or segment dataset, not a detect-segment mixed dataset.\n",
      "\u001b[34m\u001b[1malbumentations: \u001b[0mBlur(p=0.01, blur_limit=(3, 7)), MedianBlur(p=0.01, blur_limit=(3, 7)), ToGray(p=0.01, num_output_channels=3, method='weighted_average'), CLAHE(p=0.01, clip_limit=(1.0, 4.0), tile_grid_size=(8, 8))\n"
     ]
    },
    {
     "name": "stderr",
     "output_type": "stream",
     "text": [
      "\n",
      "\u001b[34m\u001b[1mval: \u001b[0mScanning /content/Sun-Coral-identification-13/valid/labels... 51 images, 0 backgrounds, 0 corrupt: 100%|██████████| 51/51 [00:00<00:00, 908.54it/s]"
     ]
    },
    {
     "name": "stdout",
     "output_type": "stream",
     "text": [
      "\u001b[34m\u001b[1mval: \u001b[0mNew cache created: /content/Sun-Coral-identification-13/valid/labels.cache\n",
      "WARNING ⚠️ Box and segment counts should be equal, but got len(segments) = 8, len(boxes) = 398. To resolve this only boxes will be used and all segments will be removed. To avoid this please supply either a detect or segment dataset, not a detect-segment mixed dataset.\n"
     ]
    },
    {
     "name": "stderr",
     "output_type": "stream",
     "text": [
      "\n"
     ]
    },
    {
     "name": "stdout",
     "output_type": "stream",
     "text": [
      "Plotting labels to runs/detect/coral_model2/labels.jpg... \n",
      "\u001b[34m\u001b[1moptimizer:\u001b[0m 'optimizer=auto' found, ignoring 'lr0=0.01' and 'momentum=0.937' and determining best 'optimizer', 'lr0' and 'momentum' automatically... \n",
      "\u001b[34m\u001b[1moptimizer:\u001b[0m AdamW(lr=0.00125, momentum=0.9) with parameter groups 77 weight(decay=0.0), 84 weight(decay=0.0005), 83 bias(decay=0.0)\n",
      "\u001b[34m\u001b[1mTensorBoard: \u001b[0mmodel graph visualization added ✅\n",
      "Image sizes 640 train, 640 val\n",
      "Using 2 dataloader workers\n",
      "Logging results to \u001b[1mruns/detect/coral_model2\u001b[0m\n",
      "Starting training for 50 epochs...\n",
      "\n",
      "      Epoch    GPU_mem   box_loss   cls_loss   dfl_loss  Instances       Size\n"
     ]
    },
    {
     "name": "stderr",
     "output_type": "stream",
     "text": [
      "       1/50      7.53G      1.821      2.768      1.564        213        640: 100%|██████████| 28/28 [00:15<00:00,  1.86it/s]\n",
      "                 Class     Images  Instances      Box(P          R      mAP50  mAP50-95): 100%|██████████| 2/2 [00:00<00:00,  2.05it/s]"
     ]
    },
    {
     "name": "stdout",
     "output_type": "stream",
     "text": [
      "                   all         51        398      0.411      0.272      0.289      0.133\n"
     ]
    },
    {
     "name": "stderr",
     "output_type": "stream",
     "text": [
      "\n"
     ]
    },
    {
     "name": "stdout",
     "output_type": "stream",
     "text": [
      "\n",
      "      Epoch    GPU_mem   box_loss   cls_loss   dfl_loss  Instances       Size\n"
     ]
    },
    {
     "name": "stderr",
     "output_type": "stream",
     "text": [
      "       2/50      7.59G      1.693       1.79      1.428        157        640: 100%|██████████| 28/28 [00:14<00:00,  1.92it/s]\n",
      "                 Class     Images  Instances      Box(P          R      mAP50  mAP50-95): 100%|██████████| 2/2 [00:01<00:00,  1.73it/s]"
     ]
    },
    {
     "name": "stdout",
     "output_type": "stream",
     "text": [
      "                   all         51        398      0.216      0.402      0.233        0.1\n"
     ]
    },
    {
     "name": "stderr",
     "output_type": "stream",
     "text": [
      "\n"
     ]
    },
    {
     "name": "stdout",
     "output_type": "stream",
     "text": [
      "\n",
      "      Epoch    GPU_mem   box_loss   cls_loss   dfl_loss  Instances       Size\n"
     ]
    },
    {
     "name": "stderr",
     "output_type": "stream",
     "text": [
      "       3/50      7.63G      1.746      1.719      1.499        220        640: 100%|██████████| 28/28 [00:14<00:00,  1.93it/s]\n",
      "                 Class     Images  Instances      Box(P          R      mAP50  mAP50-95): 100%|██████████| 2/2 [00:01<00:00,  1.52it/s]"
     ]
    },
    {
     "name": "stdout",
     "output_type": "stream",
     "text": [
      "                   all         51        398       0.18      0.243       0.15     0.0651\n"
     ]
    },
    {
     "name": "stderr",
     "output_type": "stream",
     "text": [
      "\n"
     ]
    },
    {
     "name": "stdout",
     "output_type": "stream",
     "text": [
      "\n",
      "      Epoch    GPU_mem   box_loss   cls_loss   dfl_loss  Instances       Size\n"
     ]
    },
    {
     "name": "stderr",
     "output_type": "stream",
     "text": [
      "       4/50      7.72G      1.745      1.672      1.486        281        640: 100%|██████████| 28/28 [00:14<00:00,  1.93it/s]\n",
      "                 Class     Images  Instances      Box(P          R      mAP50  mAP50-95): 100%|██████████| 2/2 [00:00<00:00,  2.18it/s]"
     ]
    },
    {
     "name": "stdout",
     "output_type": "stream",
     "text": [
      "                   all         51        398      0.188      0.466      0.144     0.0589\n"
     ]
    },
    {
     "name": "stderr",
     "output_type": "stream",
     "text": [
      "\n"
     ]
    },
    {
     "name": "stdout",
     "output_type": "stream",
     "text": [
      "\n",
      "      Epoch    GPU_mem   box_loss   cls_loss   dfl_loss  Instances       Size\n"
     ]
    },
    {
     "name": "stderr",
     "output_type": "stream",
     "text": [
      "       5/50       7.7G      1.747      1.701      1.476        168        640: 100%|██████████| 28/28 [00:14<00:00,  1.90it/s]\n",
      "                 Class     Images  Instances      Box(P          R      mAP50  mAP50-95): 100%|██████████| 2/2 [00:00<00:00,  2.22it/s]"
     ]
    },
    {
     "name": "stdout",
     "output_type": "stream",
     "text": [
      "                   all         51        398       0.27      0.326      0.258      0.124\n"
     ]
    },
    {
     "name": "stderr",
     "output_type": "stream",
     "text": [
      "\n"
     ]
    },
    {
     "name": "stdout",
     "output_type": "stream",
     "text": [
      "\n",
      "      Epoch    GPU_mem   box_loss   cls_loss   dfl_loss  Instances       Size\n"
     ]
    },
    {
     "name": "stderr",
     "output_type": "stream",
     "text": [
      "       6/50      7.42G      1.704      1.543      1.441        186        640: 100%|██████████| 28/28 [00:14<00:00,  1.87it/s]\n",
      "                 Class     Images  Instances      Box(P          R      mAP50  mAP50-95): 100%|██████████| 2/2 [00:00<00:00,  2.02it/s]"
     ]
    },
    {
     "name": "stdout",
     "output_type": "stream",
     "text": [
      "                   all         51        398      0.329      0.445      0.322      0.153\n"
     ]
    },
    {
     "name": "stderr",
     "output_type": "stream",
     "text": [
      "\n"
     ]
    },
    {
     "name": "stdout",
     "output_type": "stream",
     "text": [
      "\n",
      "      Epoch    GPU_mem   box_loss   cls_loss   dfl_loss  Instances       Size\n"
     ]
    },
    {
     "name": "stderr",
     "output_type": "stream",
     "text": [
      "       7/50      7.22G      1.638      1.523      1.412        239        640: 100%|██████████| 28/28 [00:15<00:00,  1.80it/s]\n",
      "                 Class     Images  Instances      Box(P          R      mAP50  mAP50-95): 100%|██████████| 2/2 [00:00<00:00,  2.58it/s]"
     ]
    },
    {
     "name": "stdout",
     "output_type": "stream",
     "text": [
      "                   all         51        398      0.333       0.28      0.273      0.131\n"
     ]
    },
    {
     "name": "stderr",
     "output_type": "stream",
     "text": [
      "\n"
     ]
    },
    {
     "name": "stdout",
     "output_type": "stream",
     "text": [
      "\n",
      "      Epoch    GPU_mem   box_loss   cls_loss   dfl_loss  Instances       Size\n"
     ]
    },
    {
     "name": "stderr",
     "output_type": "stream",
     "text": [
      "       8/50      7.58G      1.653      1.515      1.432        194        640: 100%|██████████| 28/28 [00:15<00:00,  1.78it/s]\n",
      "                 Class     Images  Instances      Box(P          R      mAP50  mAP50-95): 100%|██████████| 2/2 [00:00<00:00,  2.35it/s]"
     ]
    },
    {
     "name": "stdout",
     "output_type": "stream",
     "text": [
      "                   all         51        398      0.301       0.47      0.331      0.163\n"
     ]
    },
    {
     "name": "stderr",
     "output_type": "stream",
     "text": [
      "\n"
     ]
    },
    {
     "name": "stdout",
     "output_type": "stream",
     "text": [
      "\n",
      "      Epoch    GPU_mem   box_loss   cls_loss   dfl_loss  Instances       Size\n"
     ]
    },
    {
     "name": "stderr",
     "output_type": "stream",
     "text": [
      "       9/50      7.49G      1.633      1.465      1.405        231        640: 100%|██████████| 28/28 [00:16<00:00,  1.74it/s]\n",
      "                 Class     Images  Instances      Box(P          R      mAP50  mAP50-95): 100%|██████████| 2/2 [00:00<00:00,  2.49it/s]"
     ]
    },
    {
     "name": "stdout",
     "output_type": "stream",
     "text": [
      "                   all         51        398      0.418      0.432      0.413      0.189\n"
     ]
    },
    {
     "name": "stderr",
     "output_type": "stream",
     "text": [
      "\n"
     ]
    },
    {
     "name": "stdout",
     "output_type": "stream",
     "text": [
      "\n",
      "      Epoch    GPU_mem   box_loss   cls_loss   dfl_loss  Instances       Size\n"
     ]
    },
    {
     "name": "stderr",
     "output_type": "stream",
     "text": [
      "      10/50      7.39G      1.612      1.432      1.384        186        640: 100%|██████████| 28/28 [00:15<00:00,  1.78it/s]\n",
      "                 Class     Images  Instances      Box(P          R      mAP50  mAP50-95): 100%|██████████| 2/2 [00:00<00:00,  2.60it/s]"
     ]
    },
    {
     "name": "stdout",
     "output_type": "stream",
     "text": [
      "                   all         51        398      0.562      0.365      0.359       0.17\n"
     ]
    },
    {
     "name": "stderr",
     "output_type": "stream",
     "text": [
      "\n"
     ]
    },
    {
     "name": "stdout",
     "output_type": "stream",
     "text": [
      "\n",
      "      Epoch    GPU_mem   box_loss   cls_loss   dfl_loss  Instances       Size\n"
     ]
    },
    {
     "name": "stderr",
     "output_type": "stream",
     "text": [
      "      11/50      7.36G      1.623      1.453      1.406        311        640: 100%|██████████| 28/28 [00:15<00:00,  1.76it/s]\n",
      "                 Class     Images  Instances      Box(P          R      mAP50  mAP50-95): 100%|██████████| 2/2 [00:00<00:00,  2.65it/s]"
     ]
    },
    {
     "name": "stdout",
     "output_type": "stream",
     "text": [
      "                   all         51        398      0.655      0.414      0.446      0.205\n"
     ]
    },
    {
     "name": "stderr",
     "output_type": "stream",
     "text": [
      "\n"
     ]
    },
    {
     "name": "stdout",
     "output_type": "stream",
     "text": [
      "\n",
      "      Epoch    GPU_mem   box_loss   cls_loss   dfl_loss  Instances       Size\n"
     ]
    },
    {
     "name": "stderr",
     "output_type": "stream",
     "text": [
      "      12/50      7.45G      1.561      1.381      1.382        167        640: 100%|██████████| 28/28 [00:15<00:00,  1.79it/s]\n",
      "                 Class     Images  Instances      Box(P          R      mAP50  mAP50-95): 100%|██████████| 2/2 [00:00<00:00,  2.61it/s]"
     ]
    },
    {
     "name": "stdout",
     "output_type": "stream",
     "text": [
      "                   all         51        398       0.47      0.379      0.388      0.178\n"
     ]
    },
    {
     "name": "stderr",
     "output_type": "stream",
     "text": [
      "\n"
     ]
    },
    {
     "name": "stdout",
     "output_type": "stream",
     "text": [
      "\n",
      "      Epoch    GPU_mem   box_loss   cls_loss   dfl_loss  Instances       Size\n"
     ]
    },
    {
     "name": "stderr",
     "output_type": "stream",
     "text": [
      "      13/50      7.39G      1.554      1.365      1.352        183        640: 100%|██████████| 28/28 [00:15<00:00,  1.76it/s]\n",
      "                 Class     Images  Instances      Box(P          R      mAP50  mAP50-95): 100%|██████████| 2/2 [00:00<00:00,  2.58it/s]"
     ]
    },
    {
     "name": "stdout",
     "output_type": "stream",
     "text": [
      "                   all         51        398      0.631      0.423      0.412      0.195\n"
     ]
    },
    {
     "name": "stderr",
     "output_type": "stream",
     "text": [
      "\n"
     ]
    },
    {
     "name": "stdout",
     "output_type": "stream",
     "text": [
      "\n",
      "      Epoch    GPU_mem   box_loss   cls_loss   dfl_loss  Instances       Size\n"
     ]
    },
    {
     "name": "stderr",
     "output_type": "stream",
     "text": [
      "      14/50      7.73G      1.551      1.376      1.384        205        640: 100%|██████████| 28/28 [00:15<00:00,  1.75it/s]\n",
      "                 Class     Images  Instances      Box(P          R      mAP50  mAP50-95): 100%|██████████| 2/2 [00:00<00:00,  2.67it/s]"
     ]
    },
    {
     "name": "stdout",
     "output_type": "stream",
     "text": [
      "                   all         51        398      0.489      0.421      0.427      0.208\n"
     ]
    },
    {
     "name": "stderr",
     "output_type": "stream",
     "text": [
      "\n"
     ]
    },
    {
     "name": "stdout",
     "output_type": "stream",
     "text": [
      "\n",
      "      Epoch    GPU_mem   box_loss   cls_loss   dfl_loss  Instances       Size\n"
     ]
    },
    {
     "name": "stderr",
     "output_type": "stream",
     "text": [
      "      15/50       7.6G      1.551      1.304      1.359        237        640: 100%|██████████| 28/28 [00:15<00:00,  1.80it/s]\n",
      "                 Class     Images  Instances      Box(P          R      mAP50  mAP50-95): 100%|██████████| 2/2 [00:00<00:00,  2.63it/s]"
     ]
    },
    {
     "name": "stdout",
     "output_type": "stream",
     "text": [
      "                   all         51        398      0.435      0.541      0.473      0.235\n"
     ]
    },
    {
     "name": "stderr",
     "output_type": "stream",
     "text": [
      "\n"
     ]
    },
    {
     "name": "stdout",
     "output_type": "stream",
     "text": [
      "\n",
      "      Epoch    GPU_mem   box_loss   cls_loss   dfl_loss  Instances       Size\n"
     ]
    },
    {
     "name": "stderr",
     "output_type": "stream",
     "text": [
      "      16/50      7.65G      1.556      1.214      1.313        172        640: 100%|██████████| 28/28 [00:15<00:00,  1.79it/s]\n",
      "                 Class     Images  Instances      Box(P          R      mAP50  mAP50-95): 100%|██████████| 2/2 [00:00<00:00,  2.62it/s]"
     ]
    },
    {
     "name": "stdout",
     "output_type": "stream",
     "text": [
      "                   all         51        398      0.442      0.475      0.463      0.225\n"
     ]
    },
    {
     "name": "stderr",
     "output_type": "stream",
     "text": [
      "\n"
     ]
    },
    {
     "name": "stdout",
     "output_type": "stream",
     "text": [
      "\n",
      "      Epoch    GPU_mem   box_loss   cls_loss   dfl_loss  Instances       Size\n"
     ]
    },
    {
     "name": "stderr",
     "output_type": "stream",
     "text": [
      "      17/50      7.49G      1.496      1.279      1.345        225        640: 100%|██████████| 28/28 [00:15<00:00,  1.77it/s]\n",
      "                 Class     Images  Instances      Box(P          R      mAP50  mAP50-95): 100%|██████████| 2/2 [00:00<00:00,  2.64it/s]"
     ]
    },
    {
     "name": "stdout",
     "output_type": "stream",
     "text": [
      "                   all         51        398      0.417      0.542      0.502      0.231\n"
     ]
    },
    {
     "name": "stderr",
     "output_type": "stream",
     "text": [
      "\n"
     ]
    },
    {
     "name": "stdout",
     "output_type": "stream",
     "text": [
      "\n",
      "      Epoch    GPU_mem   box_loss   cls_loss   dfl_loss  Instances       Size\n"
     ]
    },
    {
     "name": "stderr",
     "output_type": "stream",
     "text": [
      "      18/50      7.42G      1.519       1.24      1.332        176        640: 100%|██████████| 28/28 [00:15<00:00,  1.75it/s]\n",
      "                 Class     Images  Instances      Box(P          R      mAP50  mAP50-95): 100%|██████████| 2/2 [00:00<00:00,  2.61it/s]"
     ]
    },
    {
     "name": "stdout",
     "output_type": "stream",
     "text": [
      "                   all         51        398       0.46       0.52       0.44      0.209\n"
     ]
    },
    {
     "name": "stderr",
     "output_type": "stream",
     "text": [
      "\n"
     ]
    },
    {
     "name": "stdout",
     "output_type": "stream",
     "text": [
      "\n",
      "      Epoch    GPU_mem   box_loss   cls_loss   dfl_loss  Instances       Size\n"
     ]
    },
    {
     "name": "stderr",
     "output_type": "stream",
     "text": [
      "      19/50      7.62G       1.49      1.227      1.319        202        640: 100%|██████████| 28/28 [00:15<00:00,  1.77it/s]\n",
      "                 Class     Images  Instances      Box(P          R      mAP50  mAP50-95): 100%|██████████| 2/2 [00:00<00:00,  2.68it/s]"
     ]
    },
    {
     "name": "stdout",
     "output_type": "stream",
     "text": [
      "                   all         51        398      0.552      0.457      0.483      0.242\n"
     ]
    },
    {
     "name": "stderr",
     "output_type": "stream",
     "text": [
      "\n"
     ]
    },
    {
     "name": "stdout",
     "output_type": "stream",
     "text": [
      "\n",
      "      Epoch    GPU_mem   box_loss   cls_loss   dfl_loss  Instances       Size\n"
     ]
    },
    {
     "name": "stderr",
     "output_type": "stream",
     "text": [
      "      20/50      7.39G      1.506      1.241      1.327        131        640: 100%|██████████| 28/28 [00:15<00:00,  1.78it/s]\n",
      "                 Class     Images  Instances      Box(P          R      mAP50  mAP50-95): 100%|██████████| 2/2 [00:00<00:00,  2.63it/s]"
     ]
    },
    {
     "name": "stdout",
     "output_type": "stream",
     "text": [
      "                   all         51        398      0.523      0.523      0.473      0.237\n"
     ]
    },
    {
     "name": "stderr",
     "output_type": "stream",
     "text": [
      "\n"
     ]
    },
    {
     "name": "stdout",
     "output_type": "stream",
     "text": [
      "\n",
      "      Epoch    GPU_mem   box_loss   cls_loss   dfl_loss  Instances       Size\n"
     ]
    },
    {
     "name": "stderr",
     "output_type": "stream",
     "text": [
      "      21/50      7.36G      1.461      1.173      1.276        207        640: 100%|██████████| 28/28 [00:15<00:00,  1.76it/s]\n",
      "                 Class     Images  Instances      Box(P          R      mAP50  mAP50-95): 100%|██████████| 2/2 [00:00<00:00,  2.55it/s]"
     ]
    },
    {
     "name": "stdout",
     "output_type": "stream",
     "text": [
      "                   all         51        398      0.492      0.532      0.461      0.223\n"
     ]
    },
    {
     "name": "stderr",
     "output_type": "stream",
     "text": [
      "\n"
     ]
    },
    {
     "name": "stdout",
     "output_type": "stream",
     "text": [
      "\n",
      "      Epoch    GPU_mem   box_loss   cls_loss   dfl_loss  Instances       Size\n"
     ]
    },
    {
     "name": "stderr",
     "output_type": "stream",
     "text": [
      "      22/50      7.36G      1.453       1.15      1.307        202        640: 100%|██████████| 28/28 [00:15<00:00,  1.76it/s]\n",
      "                 Class     Images  Instances      Box(P          R      mAP50  mAP50-95): 100%|██████████| 2/2 [00:00<00:00,  2.60it/s]"
     ]
    },
    {
     "name": "stdout",
     "output_type": "stream",
     "text": [
      "                   all         51        398      0.531      0.519       0.48      0.232\n"
     ]
    },
    {
     "name": "stderr",
     "output_type": "stream",
     "text": [
      "\n"
     ]
    },
    {
     "name": "stdout",
     "output_type": "stream",
     "text": [
      "\n",
      "      Epoch    GPU_mem   box_loss   cls_loss   dfl_loss  Instances       Size\n"
     ]
    },
    {
     "name": "stderr",
     "output_type": "stream",
     "text": [
      "      23/50      7.88G      1.427      1.128      1.285        210        640: 100%|██████████| 28/28 [00:15<00:00,  1.78it/s]\n",
      "                 Class     Images  Instances      Box(P          R      mAP50  mAP50-95): 100%|██████████| 2/2 [00:00<00:00,  2.62it/s]"
     ]
    },
    {
     "name": "stdout",
     "output_type": "stream",
     "text": [
      "                   all         51        398      0.431      0.567       0.47      0.221\n"
     ]
    },
    {
     "name": "stderr",
     "output_type": "stream",
     "text": [
      "\n"
     ]
    },
    {
     "name": "stdout",
     "output_type": "stream",
     "text": [
      "\n",
      "      Epoch    GPU_mem   box_loss   cls_loss   dfl_loss  Instances       Size\n"
     ]
    },
    {
     "name": "stderr",
     "output_type": "stream",
     "text": [
      "      24/50      7.37G      1.435      1.115      1.296        264        640: 100%|██████████| 28/28 [00:15<00:00,  1.78it/s]\n",
      "                 Class     Images  Instances      Box(P          R      mAP50  mAP50-95): 100%|██████████| 2/2 [00:00<00:00,  2.67it/s]"
     ]
    },
    {
     "name": "stdout",
     "output_type": "stream",
     "text": [
      "                   all         51        398      0.502      0.561       0.52      0.253\n"
     ]
    },
    {
     "name": "stderr",
     "output_type": "stream",
     "text": [
      "\n"
     ]
    },
    {
     "name": "stdout",
     "output_type": "stream",
     "text": [
      "\n",
      "      Epoch    GPU_mem   box_loss   cls_loss   dfl_loss  Instances       Size\n"
     ]
    },
    {
     "name": "stderr",
     "output_type": "stream",
     "text": [
      "      25/50      7.72G      1.427      1.104      1.256        218        640: 100%|██████████| 28/28 [00:15<00:00,  1.78it/s]\n",
      "                 Class     Images  Instances      Box(P          R      mAP50  mAP50-95): 100%|██████████| 2/2 [00:00<00:00,  2.58it/s]"
     ]
    },
    {
     "name": "stdout",
     "output_type": "stream",
     "text": [
      "                   all         51        398      0.499      0.511      0.498      0.238\n"
     ]
    },
    {
     "name": "stderr",
     "output_type": "stream",
     "text": [
      "\n"
     ]
    },
    {
     "name": "stdout",
     "output_type": "stream",
     "text": [
      "\n",
      "      Epoch    GPU_mem   box_loss   cls_loss   dfl_loss  Instances       Size\n"
     ]
    },
    {
     "name": "stderr",
     "output_type": "stream",
     "text": [
      "      26/50      7.34G      1.402      1.103      1.285        150        640: 100%|██████████| 28/28 [00:15<00:00,  1.80it/s]\n",
      "                 Class     Images  Instances      Box(P          R      mAP50  mAP50-95): 100%|██████████| 2/2 [00:00<00:00,  2.13it/s]"
     ]
    },
    {
     "name": "stdout",
     "output_type": "stream",
     "text": [
      "                   all         51        398      0.484      0.509       0.44       0.22\n"
     ]
    },
    {
     "name": "stderr",
     "output_type": "stream",
     "text": [
      "\n"
     ]
    },
    {
     "name": "stdout",
     "output_type": "stream",
     "text": [
      "\n",
      "      Epoch    GPU_mem   box_loss   cls_loss   dfl_loss  Instances       Size\n"
     ]
    },
    {
     "name": "stderr",
     "output_type": "stream",
     "text": [
      "      27/50      7.64G      1.417      1.107      1.294        311        640: 100%|██████████| 28/28 [00:15<00:00,  1.81it/s]\n",
      "                 Class     Images  Instances      Box(P          R      mAP50  mAP50-95): 100%|██████████| 2/2 [00:00<00:00,  2.10it/s]"
     ]
    },
    {
     "name": "stdout",
     "output_type": "stream",
     "text": [
      "                   all         51        398      0.589      0.486      0.502      0.248\n"
     ]
    },
    {
     "name": "stderr",
     "output_type": "stream",
     "text": [
      "\n"
     ]
    },
    {
     "name": "stdout",
     "output_type": "stream",
     "text": [
      "\n",
      "      Epoch    GPU_mem   box_loss   cls_loss   dfl_loss  Instances       Size\n"
     ]
    },
    {
     "name": "stderr",
     "output_type": "stream",
     "text": [
      "      28/50      7.48G        1.4      1.059      1.262        314        640: 100%|██████████| 28/28 [00:15<00:00,  1.81it/s]\n",
      "                 Class     Images  Instances      Box(P          R      mAP50  mAP50-95): 100%|██████████| 2/2 [00:00<00:00,  2.06it/s]"
     ]
    },
    {
     "name": "stdout",
     "output_type": "stream",
     "text": [
      "                   all         51        398       0.59       0.49      0.503      0.254\n"
     ]
    },
    {
     "name": "stderr",
     "output_type": "stream",
     "text": [
      "\n"
     ]
    },
    {
     "name": "stdout",
     "output_type": "stream",
     "text": [
      "\n",
      "      Epoch    GPU_mem   box_loss   cls_loss   dfl_loss  Instances       Size\n"
     ]
    },
    {
     "name": "stderr",
     "output_type": "stream",
     "text": [
      "      29/50      7.48G      1.362      1.021      1.227        252        640: 100%|██████████| 28/28 [00:15<00:00,  1.81it/s]\n",
      "                 Class     Images  Instances      Box(P          R      mAP50  mAP50-95): 100%|██████████| 2/2 [00:00<00:00,  2.05it/s]"
     ]
    },
    {
     "name": "stdout",
     "output_type": "stream",
     "text": [
      "                   all         51        398      0.517      0.505      0.478      0.243\n"
     ]
    },
    {
     "name": "stderr",
     "output_type": "stream",
     "text": [
      "\n"
     ]
    },
    {
     "name": "stdout",
     "output_type": "stream",
     "text": [
      "\n",
      "      Epoch    GPU_mem   box_loss   cls_loss   dfl_loss  Instances       Size\n"
     ]
    },
    {
     "name": "stderr",
     "output_type": "stream",
     "text": [
      "      30/50      7.46G      1.329      1.015      1.239        371        640: 100%|██████████| 28/28 [00:15<00:00,  1.83it/s]\n",
      "                 Class     Images  Instances      Box(P          R      mAP50  mAP50-95): 100%|██████████| 2/2 [00:00<00:00,  2.17it/s]"
     ]
    },
    {
     "name": "stdout",
     "output_type": "stream",
     "text": [
      "                   all         51        398      0.483      0.504      0.464      0.234\n"
     ]
    },
    {
     "name": "stderr",
     "output_type": "stream",
     "text": [
      "\n"
     ]
    },
    {
     "name": "stdout",
     "output_type": "stream",
     "text": [
      "\n",
      "      Epoch    GPU_mem   box_loss   cls_loss   dfl_loss  Instances       Size\n"
     ]
    },
    {
     "name": "stderr",
     "output_type": "stream",
     "text": [
      "      31/50       7.4G       1.35     0.9883      1.227        239        640: 100%|██████████| 28/28 [00:15<00:00,  1.84it/s]\n",
      "                 Class     Images  Instances      Box(P          R      mAP50  mAP50-95): 100%|██████████| 2/2 [00:00<00:00,  2.06it/s]"
     ]
    },
    {
     "name": "stdout",
     "output_type": "stream",
     "text": [
      "                   all         51        398      0.495      0.488      0.475       0.24\n"
     ]
    },
    {
     "name": "stderr",
     "output_type": "stream",
     "text": [
      "\n"
     ]
    },
    {
     "name": "stdout",
     "output_type": "stream",
     "text": [
      "\n",
      "      Epoch    GPU_mem   box_loss   cls_loss   dfl_loss  Instances       Size\n"
     ]
    },
    {
     "name": "stderr",
     "output_type": "stream",
     "text": [
      "      32/50      7.46G       1.35     0.9971      1.242        218        640: 100%|██████████| 28/28 [00:15<00:00,  1.81it/s]\n",
      "                 Class     Images  Instances      Box(P          R      mAP50  mAP50-95): 100%|██████████| 2/2 [00:00<00:00,  2.12it/s]"
     ]
    },
    {
     "name": "stdout",
     "output_type": "stream",
     "text": [
      "                   all         51        398       0.59      0.492      0.508      0.249\n"
     ]
    },
    {
     "name": "stderr",
     "output_type": "stream",
     "text": [
      "\n"
     ]
    },
    {
     "name": "stdout",
     "output_type": "stream",
     "text": [
      "\n",
      "      Epoch    GPU_mem   box_loss   cls_loss   dfl_loss  Instances       Size\n"
     ]
    },
    {
     "name": "stderr",
     "output_type": "stream",
     "text": [
      "      33/50      7.46G       1.31     0.9726      1.215        225        640: 100%|██████████| 28/28 [00:15<00:00,  1.82it/s]\n",
      "                 Class     Images  Instances      Box(P          R      mAP50  mAP50-95): 100%|██████████| 2/2 [00:00<00:00,  2.17it/s]"
     ]
    },
    {
     "name": "stdout",
     "output_type": "stream",
     "text": [
      "                   all         51        398      0.565      0.537      0.542      0.266\n"
     ]
    },
    {
     "name": "stderr",
     "output_type": "stream",
     "text": [
      "\n"
     ]
    },
    {
     "name": "stdout",
     "output_type": "stream",
     "text": [
      "\n",
      "      Epoch    GPU_mem   box_loss   cls_loss   dfl_loss  Instances       Size\n"
     ]
    },
    {
     "name": "stderr",
     "output_type": "stream",
     "text": [
      "      34/50      7.38G      1.354      1.005      1.233        198        640: 100%|██████████| 28/28 [00:15<00:00,  1.78it/s]\n",
      "                 Class     Images  Instances      Box(P          R      mAP50  mAP50-95): 100%|██████████| 2/2 [00:00<00:00,  2.66it/s]"
     ]
    },
    {
     "name": "stdout",
     "output_type": "stream",
     "text": [
      "                   all         51        398      0.517      0.505      0.517      0.245\n"
     ]
    },
    {
     "name": "stderr",
     "output_type": "stream",
     "text": [
      "\n"
     ]
    },
    {
     "name": "stdout",
     "output_type": "stream",
     "text": [
      "\n",
      "      Epoch    GPU_mem   box_loss   cls_loss   dfl_loss  Instances       Size\n"
     ]
    },
    {
     "name": "stderr",
     "output_type": "stream",
     "text": [
      "      35/50      7.34G      1.307     0.9279      1.209        302        640: 100%|██████████| 28/28 [00:16<00:00,  1.74it/s]\n",
      "                 Class     Images  Instances      Box(P          R      mAP50  mAP50-95): 100%|██████████| 2/2 [00:00<00:00,  2.56it/s]"
     ]
    },
    {
     "name": "stdout",
     "output_type": "stream",
     "text": [
      "                   all         51        398      0.533       0.53      0.503      0.253\n"
     ]
    },
    {
     "name": "stderr",
     "output_type": "stream",
     "text": [
      "\n"
     ]
    },
    {
     "name": "stdout",
     "output_type": "stream",
     "text": [
      "\n",
      "      Epoch    GPU_mem   box_loss   cls_loss   dfl_loss  Instances       Size\n"
     ]
    },
    {
     "name": "stderr",
     "output_type": "stream",
     "text": [
      "      36/50       7.4G      1.268     0.9364      1.208        199        640: 100%|██████████| 28/28 [00:15<00:00,  1.78it/s]\n",
      "                 Class     Images  Instances      Box(P          R      mAP50  mAP50-95): 100%|██████████| 2/2 [00:00<00:00,  2.68it/s]"
     ]
    },
    {
     "name": "stdout",
     "output_type": "stream",
     "text": [
      "                   all         51        398      0.582      0.551      0.553      0.271\n"
     ]
    },
    {
     "name": "stderr",
     "output_type": "stream",
     "text": [
      "\n"
     ]
    },
    {
     "name": "stdout",
     "output_type": "stream",
     "text": [
      "\n",
      "      Epoch    GPU_mem   box_loss   cls_loss   dfl_loss  Instances       Size\n"
     ]
    },
    {
     "name": "stderr",
     "output_type": "stream",
     "text": [
      "      37/50      7.35G      1.271      0.921        1.2        201        640: 100%|██████████| 28/28 [00:15<00:00,  1.79it/s]\n",
      "                 Class     Images  Instances      Box(P          R      mAP50  mAP50-95): 100%|██████████| 2/2 [00:00<00:00,  2.71it/s]"
     ]
    },
    {
     "name": "stdout",
     "output_type": "stream",
     "text": [
      "                   all         51        398      0.556      0.537      0.524      0.256\n"
     ]
    },
    {
     "name": "stderr",
     "output_type": "stream",
     "text": [
      "\n"
     ]
    },
    {
     "name": "stdout",
     "output_type": "stream",
     "text": [
      "\n",
      "      Epoch    GPU_mem   box_loss   cls_loss   dfl_loss  Instances       Size\n"
     ]
    },
    {
     "name": "stderr",
     "output_type": "stream",
     "text": [
      "      38/50      7.46G      1.282     0.8924      1.167        263        640: 100%|██████████| 28/28 [00:15<00:00,  1.76it/s]\n",
      "                 Class     Images  Instances      Box(P          R      mAP50  mAP50-95): 100%|██████████| 2/2 [00:00<00:00,  2.62it/s]"
     ]
    },
    {
     "name": "stdout",
     "output_type": "stream",
     "text": [
      "                   all         51        398      0.494      0.552      0.514      0.257\n"
     ]
    },
    {
     "name": "stderr",
     "output_type": "stream",
     "text": [
      "\n"
     ]
    },
    {
     "name": "stdout",
     "output_type": "stream",
     "text": [
      "\n",
      "      Epoch    GPU_mem   box_loss   cls_loss   dfl_loss  Instances       Size\n"
     ]
    },
    {
     "name": "stderr",
     "output_type": "stream",
     "text": [
      "      39/50      7.55G      1.223     0.8873      1.168        400        640: 100%|██████████| 28/28 [00:15<00:00,  1.77it/s]\n",
      "                 Class     Images  Instances      Box(P          R      mAP50  mAP50-95): 100%|██████████| 2/2 [00:00<00:00,  2.63it/s]"
     ]
    },
    {
     "name": "stdout",
     "output_type": "stream",
     "text": [
      "                   all         51        398      0.552       0.56      0.519      0.255\n"
     ]
    },
    {
     "name": "stderr",
     "output_type": "stream",
     "text": [
      "\n"
     ]
    },
    {
     "name": "stdout",
     "output_type": "stream",
     "text": [
      "\n",
      "      Epoch    GPU_mem   box_loss   cls_loss   dfl_loss  Instances       Size\n"
     ]
    },
    {
     "name": "stderr",
     "output_type": "stream",
     "text": [
      "      40/50      7.45G      1.224     0.8714      1.182        160        640: 100%|██████████| 28/28 [00:15<00:00,  1.80it/s]\n",
      "                 Class     Images  Instances      Box(P          R      mAP50  mAP50-95): 100%|██████████| 2/2 [00:00<00:00,  2.65it/s]"
     ]
    },
    {
     "name": "stdout",
     "output_type": "stream",
     "text": [
      "                   all         51        398      0.571      0.476      0.511      0.252\n"
     ]
    },
    {
     "name": "stderr",
     "output_type": "stream",
     "text": [
      "\n"
     ]
    },
    {
     "name": "stdout",
     "output_type": "stream",
     "text": [
      "Closing dataloader mosaic\n",
      "\u001b[34m\u001b[1malbumentations: \u001b[0mBlur(p=0.01, blur_limit=(3, 7)), MedianBlur(p=0.01, blur_limit=(3, 7)), ToGray(p=0.01, num_output_channels=3, method='weighted_average'), CLAHE(p=0.01, clip_limit=(1.0, 4.0), tile_grid_size=(8, 8))\n",
      "\n",
      "      Epoch    GPU_mem   box_loss   cls_loss   dfl_loss  Instances       Size\n"
     ]
    },
    {
     "name": "stderr",
     "output_type": "stream",
     "text": [
      "      41/50      7.37G      1.271     0.8646      1.192        122        640: 100%|██████████| 28/28 [00:16<00:00,  1.71it/s]\n",
      "                 Class     Images  Instances      Box(P          R      mAP50  mAP50-95): 100%|██████████| 2/2 [00:00<00:00,  2.62it/s]"
     ]
    },
    {
     "name": "stdout",
     "output_type": "stream",
     "text": [
      "                   all         51        398      0.502      0.486      0.485      0.236\n"
     ]
    },
    {
     "name": "stderr",
     "output_type": "stream",
     "text": [
      "\n"
     ]
    },
    {
     "name": "stdout",
     "output_type": "stream",
     "text": [
      "\n",
      "      Epoch    GPU_mem   box_loss   cls_loss   dfl_loss  Instances       Size\n"
     ]
    },
    {
     "name": "stderr",
     "output_type": "stream",
     "text": [
      "      42/50      7.34G      1.242     0.8483      1.185         68        640: 100%|██████████| 28/28 [00:15<00:00,  1.81it/s]\n",
      "                 Class     Images  Instances      Box(P          R      mAP50  mAP50-95): 100%|██████████| 2/2 [00:00<00:00,  2.09it/s]"
     ]
    },
    {
     "name": "stdout",
     "output_type": "stream",
     "text": [
      "                   all         51        398       0.49      0.523      0.479      0.249\n"
     ]
    },
    {
     "name": "stderr",
     "output_type": "stream",
     "text": [
      "\n"
     ]
    },
    {
     "name": "stdout",
     "output_type": "stream",
     "text": [
      "\n",
      "      Epoch    GPU_mem   box_loss   cls_loss   dfl_loss  Instances       Size\n"
     ]
    },
    {
     "name": "stderr",
     "output_type": "stream",
     "text": [
      "      43/50      7.42G      1.217     0.7964      1.168        189        640: 100%|██████████| 28/28 [00:15<00:00,  1.82it/s]\n",
      "                 Class     Images  Instances      Box(P          R      mAP50  mAP50-95): 100%|██████████| 2/2 [00:00<00:00,  2.17it/s]"
     ]
    },
    {
     "name": "stdout",
     "output_type": "stream",
     "text": [
      "                   all         51        398      0.511      0.527      0.505      0.261\n"
     ]
    },
    {
     "name": "stderr",
     "output_type": "stream",
     "text": [
      "\n"
     ]
    },
    {
     "name": "stdout",
     "output_type": "stream",
     "text": [
      "\n",
      "      Epoch    GPU_mem   box_loss   cls_loss   dfl_loss  Instances       Size\n"
     ]
    },
    {
     "name": "stderr",
     "output_type": "stream",
     "text": [
      "      44/50      7.34G      1.221     0.7896      1.167        179        640: 100%|██████████| 28/28 [00:15<00:00,  1.83it/s]\n",
      "                 Class     Images  Instances      Box(P          R      mAP50  mAP50-95): 100%|██████████| 2/2 [00:00<00:00,  2.11it/s]"
     ]
    },
    {
     "name": "stdout",
     "output_type": "stream",
     "text": [
      "                   all         51        398      0.518      0.572      0.529       0.28\n"
     ]
    },
    {
     "name": "stderr",
     "output_type": "stream",
     "text": [
      "\n"
     ]
    },
    {
     "name": "stdout",
     "output_type": "stream",
     "text": [
      "\n",
      "      Epoch    GPU_mem   box_loss   cls_loss   dfl_loss  Instances       Size\n"
     ]
    },
    {
     "name": "stderr",
     "output_type": "stream",
     "text": [
      "      45/50      7.36G       1.19     0.7679      1.135        219        640: 100%|██████████| 28/28 [00:15<00:00,  1.83it/s]\n",
      "                 Class     Images  Instances      Box(P          R      mAP50  mAP50-95): 100%|██████████| 2/2 [00:00<00:00,  2.10it/s]"
     ]
    },
    {
     "name": "stdout",
     "output_type": "stream",
     "text": [
      "                   all         51        398      0.605      0.496      0.538      0.274\n"
     ]
    },
    {
     "name": "stderr",
     "output_type": "stream",
     "text": [
      "\n"
     ]
    },
    {
     "name": "stdout",
     "output_type": "stream",
     "text": [
      "\n",
      "      Epoch    GPU_mem   box_loss   cls_loss   dfl_loss  Instances       Size\n"
     ]
    },
    {
     "name": "stderr",
     "output_type": "stream",
     "text": [
      "      46/50      7.41G      1.163     0.7503      1.143         62        640: 100%|██████████| 28/28 [00:15<00:00,  1.83it/s]\n",
      "                 Class     Images  Instances      Box(P          R      mAP50  mAP50-95): 100%|██████████| 2/2 [00:01<00:00,  1.98it/s]"
     ]
    },
    {
     "name": "stdout",
     "output_type": "stream",
     "text": [
      "                   all         51        398      0.477      0.535      0.509      0.256\n"
     ]
    },
    {
     "name": "stderr",
     "output_type": "stream",
     "text": [
      "\n"
     ]
    },
    {
     "name": "stdout",
     "output_type": "stream",
     "text": [
      "\n",
      "      Epoch    GPU_mem   box_loss   cls_loss   dfl_loss  Instances       Size\n"
     ]
    },
    {
     "name": "stderr",
     "output_type": "stream",
     "text": [
      "      47/50      7.36G      1.114     0.7099      1.112        111        640: 100%|██████████| 28/28 [00:15<00:00,  1.84it/s]\n",
      "                 Class     Images  Instances      Box(P          R      mAP50  mAP50-95): 100%|██████████| 2/2 [00:00<00:00,  2.11it/s]"
     ]
    },
    {
     "name": "stdout",
     "output_type": "stream",
     "text": [
      "                   all         51        398      0.536      0.512       0.52      0.261\n"
     ]
    },
    {
     "name": "stderr",
     "output_type": "stream",
     "text": [
      "\n"
     ]
    },
    {
     "name": "stdout",
     "output_type": "stream",
     "text": [
      "\n",
      "      Epoch    GPU_mem   box_loss   cls_loss   dfl_loss  Instances       Size\n"
     ]
    },
    {
     "name": "stderr",
     "output_type": "stream",
     "text": [
      "      48/50      7.42G      1.131     0.7102      1.131         96        640: 100%|██████████| 28/28 [00:15<00:00,  1.84it/s]\n",
      "                 Class     Images  Instances      Box(P          R      mAP50  mAP50-95): 100%|██████████| 2/2 [00:00<00:00,  2.13it/s]"
     ]
    },
    {
     "name": "stdout",
     "output_type": "stream",
     "text": [
      "                   all         51        398       0.63      0.469       0.53      0.272\n"
     ]
    },
    {
     "name": "stderr",
     "output_type": "stream",
     "text": [
      "\n"
     ]
    },
    {
     "name": "stdout",
     "output_type": "stream",
     "text": [
      "\n",
      "      Epoch    GPU_mem   box_loss   cls_loss   dfl_loss  Instances       Size\n"
     ]
    },
    {
     "name": "stderr",
     "output_type": "stream",
     "text": [
      "      49/50      7.44G      1.118     0.7061      1.124        117        640: 100%|██████████| 28/28 [00:17<00:00,  1.61it/s]\n",
      "                 Class     Images  Instances      Box(P          R      mAP50  mAP50-95): 100%|██████████| 2/2 [00:01<00:00,  1.20it/s]"
     ]
    },
    {
     "name": "stdout",
     "output_type": "stream",
     "text": [
      "                   all         51        398      0.594      0.479      0.519      0.266\n"
     ]
    },
    {
     "name": "stderr",
     "output_type": "stream",
     "text": [
      "\n"
     ]
    },
    {
     "name": "stdout",
     "output_type": "stream",
     "text": [
      "\n",
      "      Epoch    GPU_mem   box_loss   cls_loss   dfl_loss  Instances       Size\n"
     ]
    },
    {
     "name": "stderr",
     "output_type": "stream",
     "text": [
      "      50/50      7.41G      1.132     0.7073      1.134        223        640: 100%|██████████| 28/28 [00:15<00:00,  1.81it/s]\n",
      "                 Class     Images  Instances      Box(P          R      mAP50  mAP50-95): 100%|██████████| 2/2 [00:00<00:00,  2.12it/s]"
     ]
    },
    {
     "name": "stdout",
     "output_type": "stream",
     "text": [
      "                   all         51        398      0.563      0.518      0.524      0.264\n"
     ]
    },
    {
     "name": "stderr",
     "output_type": "stream",
     "text": [
      "\n"
     ]
    },
    {
     "name": "stdout",
     "output_type": "stream",
     "text": [
      "\n",
      "50 epochs completed in 0.259 hours.\n",
      "Optimizer stripped from runs/detect/coral_model2/weights/last.pt, 52.0MB\n",
      "Optimizer stripped from runs/detect/coral_model2/weights/best.pt, 52.0MB\n",
      "\n",
      "Validating runs/detect/coral_model2/weights/best.pt...\n",
      "Ultralytics 8.3.37 🚀 Python-3.10.12 torch-2.5.1+cu121 CUDA:0 (Tesla T4, 15102MiB)\n",
      "Model summary (fused): 218 layers, 25,842,076 parameters, 0 gradients, 78.7 GFLOPs\n"
     ]
    },
    {
     "name": "stderr",
     "output_type": "stream",
     "text": [
      "                 Class     Images  Instances      Box(P          R      mAP50  mAP50-95): 100%|██████████| 2/2 [00:01<00:00,  1.97it/s]\n"
     ]
    },
    {
     "name": "stdout",
     "output_type": "stream",
     "text": [
      "                   all         51        398      0.519      0.571      0.529       0.28\n",
      "   Tubastraea_coccinea         25        199      0.515      0.819      0.735      0.439\n",
      "            algae_turf         19         45      0.403      0.267      0.222     0.0944\n",
      "  palythoa_caribaeorum         23         46      0.501      0.543      0.562      0.305\n",
      "            sea_urchin         17        108      0.656      0.654      0.598      0.281\n",
      "Speed: 0.2ms preprocess, 12.5ms inference, 0.0ms loss, 1.4ms postprocess per image\n",
      "Results saved to \u001b[1mruns/detect/coral_model2\u001b[0m\n"
     ]
    }
   ],
   "source": [
    "# Load a YOLOv8 model (nano version)\n",
    "# model = YOLO('yolov8n.pt')  # You can use 'yolov8m.pt', 'yolov8l.pt', etc. for medium or large versions\n",
    "model = YOLO('yolov8m.pt')  # You can use 'yolov8m.pt', 'yolov8l.pt', etc. for medium or large versions\n",
    "\n",
    "# Train the model on your dataset\n",
    "results = model.train(\n",
    "    data=f'/content/Sun-Coral-identification-{VERSION}/data.yaml',  # path to the dataset yaml file\n",
    "    epochs=50,  # number of epochs to train\n",
    "    imgsz=640,   # image size for training\n",
    "    batch=16,    # batch size\n",
    "    name='coral_model'  # name of the training run\n",
    ")"
   ]
  },
  {
   "cell_type": "code",
   "execution_count": null,
   "metadata": {
    "colab": {
     "base_uri": "https://localhost:8080/",
     "height": 17
    },
    "executionInfo": {
     "elapsed": 5940,
     "status": "ok",
     "timestamp": 1730823854667,
     "user": {
      "displayName": "Lucas Fiamoncini de Souza",
      "userId": "07293024836181350168"
     },
     "user_tz": 180
    },
    "id": "N1T1emH5IwTu",
    "outputId": "7abbdb97-a4f2-427a-b9df-9473d3e424db"
   },
   "outputs": [
    {
     "data": {
      "application/javascript": "\n    async function download(id, filename, size) {\n      if (!google.colab.kernel.accessAllowed) {\n        return;\n      }\n      const div = document.createElement('div');\n      const label = document.createElement('label');\n      label.textContent = `Downloading \"${filename}\": `;\n      div.appendChild(label);\n      const progress = document.createElement('progress');\n      progress.max = size;\n      div.appendChild(progress);\n      document.body.appendChild(div);\n\n      const buffers = [];\n      let downloaded = 0;\n\n      const channel = await google.colab.kernel.comms.open(id);\n      // Send a message to notify the kernel that we're ready.\n      channel.send({})\n\n      for await (const message of channel.messages) {\n        // Send a message to notify the kernel that we're ready.\n        channel.send({})\n        if (message.buffers) {\n          for (const buffer of message.buffers) {\n            buffers.push(buffer);\n            downloaded += buffer.byteLength;\n            progress.value = downloaded;\n          }\n        }\n      }\n      const blob = new Blob(buffers, {type: 'application/binary'});\n      const a = document.createElement('a');\n      a.href = window.URL.createObjectURL(blob);\n      a.download = filename;\n      div.appendChild(a);\n      a.click();\n      div.remove();\n    }\n  ",
      "text/plain": [
       "<IPython.core.display.Javascript object>"
      ]
     },
     "metadata": {},
     "output_type": "display_data"
    },
    {
     "data": {
      "application/javascript": "download(\"download_5cf1c029-e6a7-4a30-a9aa-325c242a3a45\", \"runs.zip\", 103785823)",
      "text/plain": [
       "<IPython.core.display.Javascript object>"
      ]
     },
     "metadata": {},
     "output_type": "display_data"
    }
   ],
   "source": [
    "# import shutil\n",
    "# from google.colab import files\n",
    "\n",
    "# # Replace 'your_folder' with the name of the folder you want to download\n",
    "# folder_name = 'runs'\n",
    "# shutil.make_archive(folder_name, 'zip', folder_name)\n",
    "\n",
    "# # Download the zipped folder\n",
    "# files.download(f\"{folder_name}.zip\")\n"
   ]
  },
  {
   "cell_type": "markdown",
   "metadata": {
    "id": "NPxeMAN-JI65"
   },
   "source": [
    "### Importação do melhor modelo obtido e avaliação do conjunto de test"
   ]
  },
  {
   "cell_type": "code",
   "execution_count": null,
   "metadata": {
    "colab": {
     "base_uri": "https://localhost:8080/"
    },
    "executionInfo": {
     "elapsed": 18457,
     "status": "ok",
     "timestamp": 1732566152316,
     "user": {
      "displayName": "Lucas Fiamoncini de Souza",
      "userId": "07293024836181350168"
     },
     "user_tz": 180
    },
    "id": "CjFGsZldSWHQ",
    "outputId": "3bafc07e-6439-4031-91c0-82376bdaac87"
   },
   "outputs": [
    {
     "name": "stdout",
     "output_type": "stream",
     "text": [
      "Ultralytics 8.3.37 🚀 Python-3.10.12 torch-2.5.1+cu121 CUDA:0 (Tesla T4, 15102MiB)\n",
      "Model summary (fused): 218 layers, 25,842,076 parameters, 0 gradients, 78.7 GFLOPs\n",
      "Downloading https://ultralytics.com/assets/Arial.ttf to '/root/.config/Ultralytics/Arial.ttf'...\n"
     ]
    },
    {
     "name": "stderr",
     "output_type": "stream",
     "text": [
      "100%|██████████| 755k/755k [00:00<00:00, 23.2MB/s]\n",
      "\u001b[34m\u001b[1mval: \u001b[0mScanning /content/Sun-Coral-identification-13/test/labels... 39 images, 0 backgrounds, 0 corrupt: 100%|██████████| 39/39 [00:00<00:00, 776.91it/s]"
     ]
    },
    {
     "name": "stdout",
     "output_type": "stream",
     "text": [
      "\u001b[34m\u001b[1mval: \u001b[0mNew cache created: /content/Sun-Coral-identification-13/test/labels.cache\n",
      "WARNING ⚠️ Box and segment counts should be equal, but got len(segments) = 7, len(boxes) = 363. To resolve this only boxes will be used and all segments will be removed. To avoid this please supply either a detect or segment dataset, not a detect-segment mixed dataset.\n"
     ]
    },
    {
     "name": "stderr",
     "output_type": "stream",
     "text": [
      "\n",
      "                 Class     Images  Instances      Box(P          R      mAP50  mAP50-95): 100%|██████████| 3/3 [00:05<00:00,  1.98s/it]\n"
     ]
    },
    {
     "name": "stdout",
     "output_type": "stream",
     "text": [
      "                   all         39        363      0.504      0.485      0.462      0.255\n",
      "   Tubastraea_coccinea         13        201      0.606      0.719      0.675       0.39\n",
      "            algae_turf         14         20      0.403        0.2      0.191      0.124\n",
      "  palythoa_caribaeorum         19         41      0.343      0.281      0.246      0.141\n",
      "            sea_urchin         13        101      0.662      0.738      0.733      0.364\n",
      "Speed: 9.2ms preprocess, 29.1ms inference, 0.0ms loss, 33.9ms postprocess per image\n",
      "Results saved to \u001b[1mruns/detect/val\u001b[0m\n"
     ]
    }
   ],
   "source": [
    "from ultralytics import YOLO\n",
    "# model = YOLO('/content/drive/Othercomputers/Meu laptop/UFSC/Disciplinas Mestrado/Visão Computacional/Projeto - Identificação e crescimento do coral sol/Modelos/runs/detect/coral_model/weights/best.pt')\n",
    "# results = model.val(data=f'/content/Sun-Coral-identification-{VERSION}/data.yaml', split='test')\n",
    "\n",
    "model = YOLO('/content/drive/Othercomputers/Meu laptop/UFSC/Disciplinas Mestrado/Visão Computacional/Projeto - Identificação e crescimento do coral sol/Modelos/best_v4.pt')\n",
    "results = model.val(data=f'/content/Sun-Coral-identification-{VERSION}/data.yaml', split='test')"
   ]
  },
  {
   "cell_type": "code",
   "execution_count": null,
   "metadata": {
    "colab": {
     "base_uri": "https://localhost:8080/"
    },
    "executionInfo": {
     "elapsed": 30701,
     "status": "ok",
     "timestamp": 1732566183014,
     "user": {
      "displayName": "Lucas Fiamoncini de Souza",
      "userId": "07293024836181350168"
     },
     "user_tz": 180
    },
    "id": "t6ie2uaU9iRr",
    "outputId": "6ff0db49-4695-4ee9-b60b-7000c13fe341"
   },
   "outputs": [
    {
     "name": "stdout",
     "output_type": "stream",
     "text": [
      "\n",
      "image 1/39 /content/drive/Othercomputers/Meu laptop/UFSC/Disciplinas Mestrado/Visão Computacional/Projeto - Identificação e crescimento do coral sol/images/G0013191_JPG.rf.3cb1821b0bfb9803d6f63bcf8d857110.jpg: 640x640 2 algae_turfs, 9 sea_urchins, 37.1ms\n",
      "image 2/39 /content/drive/Othercomputers/Meu laptop/UFSC/Disciplinas Mestrado/Visão Computacional/Projeto - Identificação e crescimento do coral sol/images/G0013233_JPG.rf.d04bcf584eaff698a4d88f0727627339.jpg: 640x640 1 algae_turf, 8 sea_urchins, 37.1ms\n",
      "image 3/39 /content/drive/Othercomputers/Meu laptop/UFSC/Disciplinas Mestrado/Visão Computacional/Projeto - Identificação e crescimento do coral sol/images/G0013360_JPG.rf.e7fdfe060a1187ec2ba118f6f5752684.jpg: 640x640 2 algae_turfs, 37.1ms\n",
      "image 4/39 /content/drive/Othercomputers/Meu laptop/UFSC/Disciplinas Mestrado/Visão Computacional/Projeto - Identificação e crescimento do coral sol/images/G0013621_JPG.rf.77c8e43d0415b9231c014d104437875b.jpg: 640x640 41 Tubastraea_coccineas, 37.1ms\n",
      "image 5/39 /content/drive/Othercomputers/Meu laptop/UFSC/Disciplinas Mestrado/Visão Computacional/Projeto - Identificação e crescimento do coral sol/images/G0013794_JPG.rf.ce8fbf81f2daf95f6ae8ecd99fab2f41.jpg: 640x640 13 Tubastraea_coccineas, 1 palythoa_caribaeorum, 1 sea_urchin, 37.1ms\n",
      "image 6/39 /content/drive/Othercomputers/Meu laptop/UFSC/Disciplinas Mestrado/Visão Computacional/Projeto - Identificação e crescimento do coral sol/images/G0014632_JPG.rf.f977e86267334468ab3c07f584642333.jpg: 640x640 11 Tubastraea_coccineas, 37.1ms\n",
      "image 7/39 /content/drive/Othercomputers/Meu laptop/UFSC/Disciplinas Mestrado/Visão Computacional/Projeto - Identificação e crescimento do coral sol/images/G0014683_JPG.rf.96a2ab519febd09d2ee4ca5161e24de3.jpg: 640x640 (no detections), 37.1ms\n",
      "image 8/39 /content/drive/Othercomputers/Meu laptop/UFSC/Disciplinas Mestrado/Visão Computacional/Projeto - Identificação e crescimento do coral sol/images/G0014820_JPG.rf.399a9f7348866dd7c0097ceb627f6590.jpg: 640x640 (no detections), 37.1ms\n",
      "image 9/39 /content/drive/Othercomputers/Meu laptop/UFSC/Disciplinas Mestrado/Visão Computacional/Projeto - Identificação e crescimento do coral sol/images/G0028084_JPG.rf.45cc00a2407cddc5b5a76d7531b3ea02.jpg: 640x640 3 palythoa_caribaeorums, 2 sea_urchins, 37.1ms\n",
      "image 10/39 /content/drive/Othercomputers/Meu laptop/UFSC/Disciplinas Mestrado/Visão Computacional/Projeto - Identificação e crescimento do coral sol/images/G0028158_JPG.rf.c313ce14a0579850002e57d444d7d9b0.jpg: 640x640 1 palythoa_caribaeorum, 37.1ms\n",
      "image 11/39 /content/drive/Othercomputers/Meu laptop/UFSC/Disciplinas Mestrado/Visão Computacional/Projeto - Identificação e crescimento do coral sol/images/G0028365_JPG.rf.01bd74771349339b8530a13fd796d194.jpg: 640x640 3 palythoa_caribaeorums, 37.1ms\n",
      "image 12/39 /content/drive/Othercomputers/Meu laptop/UFSC/Disciplinas Mestrado/Visão Computacional/Projeto - Identificação e crescimento do coral sol/images/G0035320_JPG.rf.291cb2eeb513671bc044dbc560e08d2b.jpg: 640x640 6 Tubastraea_coccineas, 2 palythoa_caribaeorums, 37.1ms\n",
      "image 13/39 /content/drive/Othercomputers/Meu laptop/UFSC/Disciplinas Mestrado/Visão Computacional/Projeto - Identificação e crescimento do coral sol/images/G0035398_JPG.rf.2b1fe21e34f9fdb90bebb7bef86659de.jpg: 640x640 18 Tubastraea_coccineas, 1 palythoa_caribaeorum, 37.1ms\n",
      "image 14/39 /content/drive/Othercomputers/Meu laptop/UFSC/Disciplinas Mestrado/Visão Computacional/Projeto - Identificação e crescimento do coral sol/images/G0035428_JPG.rf.bbe96d85b43ee9c3fa316af7e3d5df09.jpg: 640x640 1 algae_turf, 37.1ms\n",
      "image 15/39 /content/drive/Othercomputers/Meu laptop/UFSC/Disciplinas Mestrado/Visão Computacional/Projeto - Identificação e crescimento do coral sol/images/G0035446_JPG.rf.f1f55eda6d97f249ba84ca451639985d.jpg: 640x640 1 algae_turf, 37.1ms\n",
      "image 16/39 /content/drive/Othercomputers/Meu laptop/UFSC/Disciplinas Mestrado/Visão Computacional/Projeto - Identificação e crescimento do coral sol/images/G0035460_JPG.rf.d89defd8dc3ddd2341edcf1aa7b3d22f.jpg: 640x640 1 palythoa_caribaeorum, 3 sea_urchins, 37.1ms\n",
      "image 17/39 /content/drive/Othercomputers/Meu laptop/UFSC/Disciplinas Mestrado/Visão Computacional/Projeto - Identificação e crescimento do coral sol/images/G0035508_JPG.rf.a6f808f85b228c55034d3cc45d7c581d.jpg: 640x640 15 Tubastraea_coccineas, 37.0ms\n",
      "image 18/39 /content/drive/Othercomputers/Meu laptop/UFSC/Disciplinas Mestrado/Visão Computacional/Projeto - Identificação e crescimento do coral sol/images/G0035562_JPG.rf.46307484e1b0c0e0d3146f89673c5717.jpg: 640x640 2 algae_turfs, 37.1ms\n",
      "image 19/39 /content/drive/Othercomputers/Meu laptop/UFSC/Disciplinas Mestrado/Visão Computacional/Projeto - Identificação e crescimento do coral sol/images/G0035568_JPG.rf.d53028f902a3d2da448bf854e890017e.jpg: 640x640 3 algae_turfs, 1 palythoa_caribaeorum, 37.1ms\n",
      "image 20/39 /content/drive/Othercomputers/Meu laptop/UFSC/Disciplinas Mestrado/Visão Computacional/Projeto - Identificação e crescimento do coral sol/images/G0039721_JPG.rf.22bc5729aae4c023233a1d1ff2359971.jpg: 640x640 19 sea_urchins, 37.1ms\n",
      "image 21/39 /content/drive/Othercomputers/Meu laptop/UFSC/Disciplinas Mestrado/Visão Computacional/Projeto - Identificação e crescimento do coral sol/images/G0044878_JPG.rf.8d2b88223e863af9d28f9c3ddc137fed.jpg: 640x640 2 palythoa_caribaeorums, 37.1ms\n",
      "image 22/39 /content/drive/Othercomputers/Meu laptop/UFSC/Disciplinas Mestrado/Visão Computacional/Projeto - Identificação e crescimento do coral sol/images/G0045281_JPG.rf.3f18e427e38ae4283f1fda16a7f9aa03.jpg: 640x640 4 Tubastraea_coccineas, 1 palythoa_caribaeorum, 37.1ms\n",
      "image 23/39 /content/drive/Othercomputers/Meu laptop/UFSC/Disciplinas Mestrado/Visão Computacional/Projeto - Identificação e crescimento do coral sol/images/G0045362_JPG.rf.f86c9e1cc435bee7f2013572ffb228a5.jpg: 640x640 15 Tubastraea_coccineas, 37.1ms\n",
      "image 24/39 /content/drive/Othercomputers/Meu laptop/UFSC/Disciplinas Mestrado/Visão Computacional/Projeto - Identificação e crescimento do coral sol/images/G0045604_JPG.rf.559ee49391dd5941445abf1ee77296cf.jpg: 640x640 2 palythoa_caribaeorums, 37.1ms\n",
      "image 25/39 /content/drive/Othercomputers/Meu laptop/UFSC/Disciplinas Mestrado/Visão Computacional/Projeto - Identificação e crescimento do coral sol/images/G0045682_JPG.rf.babd461c82f964e11468f50e496bf778.jpg: 640x640 1 sea_urchin, 37.1ms\n",
      "image 26/39 /content/drive/Othercomputers/Meu laptop/UFSC/Disciplinas Mestrado/Visão Computacional/Projeto - Identificação e crescimento do coral sol/images/G0046498_JPG.rf.8496e9a49b962148e296fd7e0de7d670.jpg: 640x640 52 Tubastraea_coccineas, 2 palythoa_caribaeorums, 1 sea_urchin, 37.1ms\n",
      "image 27/39 /content/drive/Othercomputers/Meu laptop/UFSC/Disciplinas Mestrado/Visão Computacional/Projeto - Identificação e crescimento do coral sol/images/G0046780_JPG.rf.4107e3f59bcf655e2fdd455a9c1c7b9d.jpg: 640x640 1 palythoa_caribaeorum, 12 sea_urchins, 37.1ms\n",
      "image 28/39 /content/drive/Othercomputers/Meu laptop/UFSC/Disciplinas Mestrado/Visão Computacional/Projeto - Identificação e crescimento do coral sol/images/G0048242_JPG.rf.628d10eae65700cb23ef31838f89f721.jpg: 640x640 17 sea_urchins, 37.1ms\n",
      "image 29/39 /content/drive/Othercomputers/Meu laptop/UFSC/Disciplinas Mestrado/Visão Computacional/Projeto - Identificação e crescimento do coral sol/images/G0055747_JPG.rf.54d2f544bcecf41a34d4ddf1653fe25e.jpg: 640x640 15 sea_urchins, 37.1ms\n",
      "image 30/39 /content/drive/Othercomputers/Meu laptop/UFSC/Disciplinas Mestrado/Visão Computacional/Projeto - Identificação e crescimento do coral sol/images/G0055754_JPG.rf.40d2f4478b76556e4e2bf8428fae1cfa.jpg: 640x640 1 palythoa_caribaeorum, 11 sea_urchins, 37.1ms\n",
      "image 31/39 /content/drive/Othercomputers/Meu laptop/UFSC/Disciplinas Mestrado/Visão Computacional/Projeto - Identificação e crescimento do coral sol/images/G0056099_JPG.rf.af96de36756f62e165482f85add33476.jpg: 640x640 24 sea_urchins, 37.1ms\n",
      "image 32/39 /content/drive/Othercomputers/Meu laptop/UFSC/Disciplinas Mestrado/Visão Computacional/Projeto - Identificação e crescimento do coral sol/images/G0057206_JPG.rf.50cef3650a95aa339b55d17ed3166af6.jpg: 640x640 1 palythoa_caribaeorum, 37.1ms\n",
      "image 33/39 /content/drive/Othercomputers/Meu laptop/UFSC/Disciplinas Mestrado/Visão Computacional/Projeto - Identificação e crescimento do coral sol/images/G0069994_JPG.rf.064afd4edf24ae7118e11e0b1689fd5b.jpg: 640x640 1 palythoa_caribaeorum, 37.1ms\n",
      "image 34/39 /content/drive/Othercomputers/Meu laptop/UFSC/Disciplinas Mestrado/Visão Computacional/Projeto - Identificação e crescimento do coral sol/images/G0070585_JPG.rf.7cd1f6df6dd545617162e21e4d2485cb.jpg: 640x640 (no detections), 37.1ms\n",
      "image 35/39 /content/drive/Othercomputers/Meu laptop/UFSC/Disciplinas Mestrado/Visão Computacional/Projeto - Identificação e crescimento do coral sol/images/G0071145_JPG.rf.bb84020cee38f2ba689339d9854c8b38.jpg: 640x640 (no detections), 37.1ms\n",
      "image 36/39 /content/drive/Othercomputers/Meu laptop/UFSC/Disciplinas Mestrado/Visão Computacional/Projeto - Identificação e crescimento do coral sol/images/P1310040_JPG.rf.14d9ec14afb260a5509e8dcfc4265481.jpg: 640x640 10 Tubastraea_coccineas, 39.1ms\n",
      "image 37/39 /content/drive/Othercomputers/Meu laptop/UFSC/Disciplinas Mestrado/Visão Computacional/Projeto - Identificação e crescimento do coral sol/images/P1310197_JPG.rf.625e832edc8856b0cb88d4c8419da7b2.jpg: 640x640 41 Tubastraea_coccineas, 37.2ms\n",
      "image 38/39 /content/drive/Othercomputers/Meu laptop/UFSC/Disciplinas Mestrado/Visão Computacional/Projeto - Identificação e crescimento do coral sol/images/P2060064_JPG.rf.b13ac73435973c4caa7440fa7ca3e02e.jpg: 640x640 6 Tubastraea_coccineas, 37.1ms\n",
      "image 39/39 /content/drive/Othercomputers/Meu laptop/UFSC/Disciplinas Mestrado/Visão Computacional/Projeto - Identificação e crescimento do coral sol/images/P2060356_JPG.rf.b13f8593395106898db1c359a603dfc8.jpg: 640x640 2 Tubastraea_coccineas, 37.1ms\n",
      "Speed: 2.3ms preprocess, 37.1ms inference, 1.5ms postprocess per image at shape (1, 3, 640, 640)\n"
     ]
    }
   ],
   "source": [
    "results = model.predict(source='/content/drive/Othercomputers/Meu laptop/UFSC/Disciplinas Mestrado/Visão Computacional/Projeto - Identificação e crescimento do coral sol/images', imgsz=640)"
   ]
  },
  {
   "cell_type": "code",
   "execution_count": null,
   "metadata": {
    "colab": {
     "base_uri": "https://localhost:8080/",
     "height": 1000,
     "output_embedded_package_id": "1qiWGBplotaUj8B5A_qR6AEq8FkCUbXAG"
    },
    "executionInfo": {
     "elapsed": 43099,
     "status": "ok",
     "timestamp": 1732566226107,
     "user": {
      "displayName": "Lucas Fiamoncini de Souza",
      "userId": "07293024836181350168"
     },
     "user_tz": 180
    },
    "id": "Iql4nsvW-BoR",
    "outputId": "852f81c4-4825-4875-f506-fb1b5d530166"
   },
   "outputs": [],
   "source": [
    "for result in results:\n",
    "    result.show()"
   ]
  },
  {
   "cell_type": "code",
   "execution_count": null,
   "metadata": {
    "colab": {
     "base_uri": "https://localhost:8080/"
    },
    "executionInfo": {
     "elapsed": 454,
     "status": "ok",
     "timestamp": 1730739071134,
     "user": {
      "displayName": "Lucas Fiamoncini de Souza",
      "userId": "07293024836181350168"
     },
     "user_tz": 180
    },
    "id": "_ktsY36PFRfb",
    "outputId": "60b61303-f0c9-4396-d4e7-b7386468fdcd"
   },
   "outputs": [
    {
     "name": "stdout",
     "output_type": "stream",
     "text": [
      "Image 0:\n",
      "  sea_urchin: 11\n",
      "  palythoa_caribaeorum: 1\n",
      "--------------------------------------------------\n",
      "Image 1:\n",
      "  sea_urchin: 9\n",
      "  algae_turf: 1\n",
      "--------------------------------------------------\n",
      "Image 2:\n",
      "  palythoa_caribaeorum: 1\n",
      "  algae_turf: 1\n",
      "--------------------------------------------------\n",
      "Image 3:\n",
      "  Tubastraea_coccinea: 31\n",
      "--------------------------------------------------\n",
      "Image 4:\n",
      "  sea_urchin: 1\n",
      "  Tubastraea_coccinea: 11\n",
      "  palythoa_caribaeorum: 1\n",
      "--------------------------------------------------\n",
      "Image 5:\n",
      "  Tubastraea_coccinea: 11\n",
      "--------------------------------------------------\n",
      "Image 6:\n",
      "--------------------------------------------------\n",
      "Image 7:\n",
      "--------------------------------------------------\n",
      "Image 8:\n",
      "  sea_urchin: 3\n",
      "  palythoa_caribaeorum: 2\n",
      "--------------------------------------------------\n",
      "Image 9:\n",
      "  sea_urchin: 1\n",
      "--------------------------------------------------\n",
      "Image 10:\n",
      "  palythoa_caribaeorum: 2\n",
      "--------------------------------------------------\n",
      "Image 11:\n",
      "  Tubastraea_coccinea: 7\n",
      "--------------------------------------------------\n",
      "Image 12:\n",
      "  Tubastraea_coccinea: 21\n",
      "--------------------------------------------------\n",
      "Image 13:\n",
      "--------------------------------------------------\n",
      "Image 14:\n",
      "  sea_urchin: 1\n",
      "--------------------------------------------------\n",
      "Image 15:\n",
      "  palythoa_caribaeorum: 1\n",
      "  sea_urchin: 3\n",
      "  algae_turf: 1\n",
      "--------------------------------------------------\n",
      "Image 16:\n",
      "  Tubastraea_coccinea: 16\n",
      "--------------------------------------------------\n",
      "Image 17:\n",
      "  sea_urchin: 2\n",
      "  palythoa_caribaeorum: 2\n",
      "  algae_turf: 2\n",
      "--------------------------------------------------\n",
      "Image 18:\n",
      "  palythoa_caribaeorum: 2\n",
      "  algae_turf: 2\n",
      "--------------------------------------------------\n",
      "Image 19:\n",
      "  sea_urchin: 19\n",
      "--------------------------------------------------\n",
      "Image 20:\n",
      "  palythoa_caribaeorum: 5\n",
      "--------------------------------------------------\n",
      "Image 21:\n",
      "  Tubastraea_coccinea: 4\n",
      "  palythoa_caribaeorum: 1\n",
      "--------------------------------------------------\n",
      "Image 22:\n",
      "  Tubastraea_coccinea: 15\n",
      "--------------------------------------------------\n",
      "Image 23:\n",
      "  palythoa_caribaeorum: 4\n",
      "--------------------------------------------------\n",
      "Image 24:\n",
      "  sea_urchin: 1\n",
      "--------------------------------------------------\n",
      "Image 25:\n",
      "  Tubastraea_coccinea: 31\n",
      "  palythoa_caribaeorum: 3\n",
      "  sea_urchin: 2\n",
      "--------------------------------------------------\n",
      "Image 26:\n",
      "  sea_urchin: 10\n",
      "  palythoa_caribaeorum: 2\n",
      "--------------------------------------------------\n",
      "Image 27:\n",
      "  sea_urchin: 32\n",
      "--------------------------------------------------\n",
      "Image 28:\n",
      "  sea_urchin: 16\n",
      "--------------------------------------------------\n",
      "Image 29:\n",
      "  sea_urchin: 12\n",
      "  palythoa_caribaeorum: 1\n",
      "--------------------------------------------------\n",
      "Image 30:\n",
      "  sea_urchin: 25\n",
      "--------------------------------------------------\n",
      "Image 31:\n",
      "  sea_urchin: 5\n",
      "  palythoa_caribaeorum: 2\n",
      "--------------------------------------------------\n",
      "Image 32:\n",
      "  palythoa_caribaeorum: 1\n",
      "--------------------------------------------------\n",
      "Image 33:\n",
      "--------------------------------------------------\n",
      "Image 34:\n",
      "--------------------------------------------------\n",
      "Image 35:\n",
      "  Tubastraea_coccinea: 12\n",
      "--------------------------------------------------\n",
      "Image 36:\n",
      "  Tubastraea_coccinea: 27\n",
      "--------------------------------------------------\n",
      "Image 37:\n",
      "  Tubastraea_coccinea: 7\n",
      "--------------------------------------------------\n",
      "Image 38:\n",
      "  Tubastraea_coccinea: 3\n",
      "--------------------------------------------------\n"
     ]
    }
   ],
   "source": [
    "# Dictionary to hold the count of each label across all images\n",
    "all_images_counts = []\n",
    "\n",
    "# Loop through each result in the batch prediction results\n",
    "for result in results:\n",
    "    # Get the class predictions for the current image\n",
    "    labels = result.boxes.cls.cpu().numpy()  # Extract class labels as a numpy array\n",
    "    label_counts = {}\n",
    "\n",
    "    # Count each label\n",
    "    for label in labels:\n",
    "        label_name = model.names[int(label)]  # Convert label ID to label name\n",
    "        label_counts[label_name] = label_counts.get(label_name, 0) + 1\n",
    "\n",
    "    # Append the counts for this image to the main list\n",
    "    all_images_counts.append(label_counts)\n",
    "\n",
    "# Display the counts for each image\n",
    "for idx, counts in enumerate(all_images_counts):\n",
    "    print(f\"Image {idx}:\")\n",
    "    for label, count in counts.items():\n",
    "        print(f\"  {label}: {count}\")\n",
    "    print('-----'*10)\n"
   ]
  },
  {
   "cell_type": "markdown",
   "metadata": {
    "id": "M6uQ_PTpe35X"
   },
   "source": [
    "-----\n",
    "- Identificação"
   ]
  },
  {
   "cell_type": "code",
   "execution_count": null,
   "metadata": {
    "colab": {
     "base_uri": "https://localhost:8080/"
    },
    "executionInfo": {
     "elapsed": 280,
     "status": "ok",
     "timestamp": 1732567638451,
     "user": {
      "displayName": "Lucas Fiamoncini de Souza",
      "userId": "07293024836181350168"
     },
     "user_tz": 180
    },
    "id": "oSLwLTb3ZuFP",
    "outputId": "85cd9477-6314-473a-b173-da8759909b8e"
   },
   "outputs": [
    {
     "name": "stdout",
     "output_type": "stream",
     "text": [
      "\n",
      "image 1/4 /content/drive/Othercomputers/Meu laptop/UFSC/Disciplinas Mestrado/Visão Computacional/Projeto - Identificação e crescimento do coral sol/TesteIdentificacao/resized_1_transect_FL_02-03-23/G0011094.JPG: 640x640 (no detections), 37.2ms\n",
      "image 2/4 /content/drive/Othercomputers/Meu laptop/UFSC/Disciplinas Mestrado/Visão Computacional/Projeto - Identificação e crescimento do coral sol/TesteIdentificacao/resized_1_transect_FL_02-03-23/G0011197.JPG: 640x640 (no detections), 37.0ms\n",
      "image 3/4 /content/drive/Othercomputers/Meu laptop/UFSC/Disciplinas Mestrado/Visão Computacional/Projeto - Identificação e crescimento do coral sol/TesteIdentificacao/resized_1_transect_FL_02-03-23/G0011444.JPG: 640x640 (no detections), 37.0ms\n",
      "image 4/4 /content/drive/Othercomputers/Meu laptop/UFSC/Disciplinas Mestrado/Visão Computacional/Projeto - Identificação e crescimento do coral sol/TesteIdentificacao/resized_1_transect_FL_02-03-23/G0022809.JPG: 640x640 1 Tubastraea_coccinea, 36.9ms\n",
      "Speed: 1.8ms preprocess, 37.0ms inference, 0.8ms postprocess per image at shape (1, 3, 640, 640)\n",
      "Results saved to \u001b[1mruns/detect/identificacao1\u001b[0m\n"
     ]
    }
   ],
   "source": [
    "results = model.predict(\n",
    "    source=\"/content/drive/Othercomputers/Meu laptop/UFSC/Disciplinas Mestrado/Visão Computacional/Projeto - Identificação e crescimento do coral sol/TesteIdentificacao/resized_1_transect_FL_02-03-23\",\n",
    "    imgsz=640,\n",
    "    show_labels=False,\n",
    "    show_conf=False,\n",
    "    save=True,\n",
    "    name='identificacao1'\n",
    ")\n"
   ]
  },
  {
   "cell_type": "code",
   "execution_count": null,
   "metadata": {
    "colab": {
     "base_uri": "https://localhost:8080/",
     "height": 1000,
     "output_embedded_package_id": "1riVPm0TgXNxNyBy2w6hCF9_C-DdUblHo"
    },
    "executionInfo": {
     "elapsed": 5164,
     "status": "ok",
     "timestamp": 1732566699255,
     "user": {
      "displayName": "Lucas Fiamoncini de Souza",
      "userId": "07293024836181350168"
     },
     "user_tz": 180
    },
    "id": "WPAIrnTPe7EG",
    "outputId": "e4f4f420-3601-4433-d082-7d78ca826063"
   },
   "outputs": [],
   "source": [
    "for result in results:\n",
    "    result.show()"
   ]
  },
  {
   "cell_type": "code",
   "execution_count": null,
   "metadata": {
    "colab": {
     "base_uri": "https://localhost:8080/"
    },
    "executionInfo": {
     "elapsed": 598,
     "status": "ok",
     "timestamp": 1732567539840,
     "user": {
      "displayName": "Lucas Fiamoncini de Souza",
      "userId": "07293024836181350168"
     },
     "user_tz": 180
    },
    "id": "iU2u1OW7fDz-",
    "outputId": "5f03dad7-f6ba-41a3-fc8b-1f4f21b6e1b7"
   },
   "outputs": [
    {
     "name": "stdout",
     "output_type": "stream",
     "text": [
      "\n",
      "image 1/4 /content/drive/Othercomputers/Meu laptop/UFSC/Disciplinas Mestrado/Visão Computacional/Projeto - Identificação e crescimento do coral sol/TesteIdentificacao/resized_2_transect_FL_02-03-23/G0042964.JPG: 640x640 1 algae_turf, 41.4ms\n",
      "image 2/4 /content/drive/Othercomputers/Meu laptop/UFSC/Disciplinas Mestrado/Visão Computacional/Projeto - Identificação e crescimento do coral sol/TesteIdentificacao/resized_2_transect_FL_02-03-23/G0043131.JPG: 640x640 4 sea_urchins, 56.6ms\n",
      "image 3/4 /content/drive/Othercomputers/Meu laptop/UFSC/Disciplinas Mestrado/Visão Computacional/Projeto - Identificação e crescimento do coral sol/TesteIdentificacao/resized_2_transect_FL_02-03-23/G0043427.JPG: 640x640 1 palythoa_caribaeorum, 5 sea_urchins, 47.3ms\n",
      "image 4/4 /content/drive/Othercomputers/Meu laptop/UFSC/Disciplinas Mestrado/Visão Computacional/Projeto - Identificação e crescimento do coral sol/TesteIdentificacao/resized_2_transect_FL_02-03-23/G0095148.JPG: 640x640 80 Tubastraea_coccineas, 37.0ms\n",
      "Speed: 5.3ms preprocess, 45.6ms inference, 1.8ms postprocess per image at shape (1, 3, 640, 640)\n",
      "Results saved to \u001b[1mruns/detect/identificacao2\u001b[0m\n"
     ]
    }
   ],
   "source": [
    "results2 = model.predict(\n",
    "    source=\"/content/drive/Othercomputers/Meu laptop/UFSC/Disciplinas Mestrado/Visão Computacional/Projeto - Identificação e crescimento do coral sol/TesteIdentificacao/resized_2_transect_FL_02-03-23\",\n",
    "    imgsz=640,\n",
    "    show_labels=False,\n",
    "    show_conf=False,\n",
    "    save=True,\n",
    "    name='identificacao2'\n",
    ")"
   ]
  },
  {
   "cell_type": "code",
   "execution_count": null,
   "metadata": {
    "colab": {
     "base_uri": "https://localhost:8080/",
     "height": 1000,
     "output_embedded_package_id": "1HU7CZJ5-hg1k6DJai9X2RXCQNDXB5ut6"
    },
    "executionInfo": {
     "elapsed": 4532,
     "status": "ok",
     "timestamp": 1732567274113,
     "user": {
      "displayName": "Lucas Fiamoncini de Souza",
      "userId": "07293024836181350168"
     },
     "user_tz": 180
    },
    "id": "e0ons5lZfJk7",
    "outputId": "7e4541f9-3dff-45ab-8536-367a751f4f7e"
   },
   "outputs": [],
   "source": [
    "for result in results2:\n",
    "    result.show()"
   ]
  },
  {
   "cell_type": "code",
   "execution_count": null,
   "metadata": {
    "colab": {
     "base_uri": "https://localhost:8080/"
    },
    "executionInfo": {
     "elapsed": 295,
     "status": "ok",
     "timestamp": 1732557585503,
     "user": {
      "displayName": "Lucas Fiamoncini de Souza",
      "userId": "07293024836181350168"
     },
     "user_tz": 180
    },
    "id": "9AMlHd76hHej",
    "outputId": "78ba2088-7d3f-46ae-b216-b8544d79ed77"
   },
   "outputs": [
    {
     "name": "stdout",
     "output_type": "stream",
     "text": [
      "Image 0:\n",
      "  algae_turf: 1\n",
      "--------------------------------------------------\n",
      "Image 1:\n",
      "  sea_urchin: 4\n",
      "--------------------------------------------------\n",
      "Image 2:\n",
      "  sea_urchin: 5\n",
      "  palythoa_caribaeorum: 1\n",
      "--------------------------------------------------\n",
      "Image 3:\n",
      "  Tubastraea_coccinea: 80\n",
      "--------------------------------------------------\n"
     ]
    }
   ],
   "source": [
    "# Dictionary to hold the count of each label across all images\n",
    "all_images_counts = []\n",
    "\n",
    "# Loop through each result in the batch prediction results\n",
    "for result in results2:\n",
    "    # Get the class predictions for the current image\n",
    "    labels = result.boxes.cls.cpu().numpy()  # Extract class labels as a numpy array\n",
    "    label_counts = {}\n",
    "\n",
    "    # Count each label\n",
    "    for label in labels:\n",
    "        label_name = model.names[int(label)]  # Convert label ID to label name\n",
    "        label_counts[label_name] = label_counts.get(label_name, 0) + 1\n",
    "\n",
    "    # Append the counts for this image to the main list\n",
    "    all_images_counts.append(label_counts)\n",
    "\n",
    "# Display the counts for each image\n",
    "for idx, counts in enumerate(all_images_counts):\n",
    "    print(f\"Image {idx}:\")\n",
    "    for label, count in counts.items():\n",
    "        print(f\"  {label}: {count}\")\n",
    "    print('-----'*10)\n"
   ]
  },
  {
   "cell_type": "code",
   "execution_count": null,
   "metadata": {
    "id": "vNfrj70qhTpm"
   },
   "outputs": [],
   "source": []
  }
 ],
 "metadata": {
  "colab": {
   "authorship_tag": "ABX9TyNEDPTwkbWCPNGNUmNl06Bf",
   "mount_file_id": "1i5hkax9nkeu3QPHkKl2bWvLCwQs0R8Uc",
   "provenance": []
  },
  "kernelspec": {
   "display_name": "ml-cv",
   "language": "python",
   "name": "python3"
  },
  "language_info": {
   "codemirror_mode": {
    "name": "ipython",
    "version": 3
   },
   "file_extension": ".py",
   "mimetype": "text/x-python",
   "name": "python",
   "nbconvert_exporter": "python",
   "pygments_lexer": "ipython3",
   "version": "3.12.4"
  }
 },
 "nbformat": 4,
 "nbformat_minor": 0
}
